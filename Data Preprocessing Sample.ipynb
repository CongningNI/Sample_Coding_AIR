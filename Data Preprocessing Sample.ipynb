{
 "cells": [
  {
   "cell_type": "code",
   "execution_count": 697,
   "id": "1b299905-2823-43b9-8c5a-382a925aee40",
   "metadata": {},
   "outputs": [],
   "source": [
    "import pandas as pd\n",
    "import os\n",
    "import glob\n",
    "\n",
    "import matplotlib.pyplot as plt\n",
    "import seaborn as sns\n",
    "\n",
    "import swifter\n",
    "import re\n",
    "import string\n",
    "from tqdm import tqdm\n",
    "\n",
    "from multiprocessing import Pool\n",
    "import seaborn as sns\n",
    "\n",
    "import numpy as np\n",
    "from sklearn.model_selection import train_test_split, StratifiedShuffleSplit, StratifiedKFold\n",
    "from sklearn.metrics import accuracy_score, precision_recall_fscore_support, roc_auc_score\n",
    "from sklearn.metrics import ConfusionMatrixDisplay"
   ]
  },
  {
   "cell_type": "code",
   "execution_count": null,
   "id": "0cf4651d-f102-41e0-afd9-9f23b4967bf5",
   "metadata": {},
   "outputs": [],
   "source": [
    "## The following data sources imported as denominated for data privacy issue"
   ]
  },
  {
   "cell_type": "markdown",
   "id": "5e89f351-bd41-4250-badf-535345994a70",
   "metadata": {
    "tags": []
   },
   "source": [
    "# Generate Data"
   ]
  },
  {
   "cell_type": "code",
   "execution_count": null,
   "id": "93a78594-ce89-45cc-927c-a452d41993e4",
   "metadata": {
    "tags": []
   },
   "outputs": [],
   "source": [
    "# use glob to get all the csv files in the folder\n",
    "root ='\\Valid dataset'\n",
    "post = pd.DataFrame()\n",
    "csv_files = glob.glob(os.path.join(root, \"*.csv\"))\n",
    "print(len(csv_files))\n",
    "for f in csv_files:\n",
    "    # read the csv file\n",
    "    df = pd.read_csv(f, lineterminator='\\n')\n",
    "    post = pd.concat([post, df])\n"
   ]
  },
  {
   "cell_type": "code",
   "execution_count": 845,
   "id": "965c490b-adb0-47bf-99bd-15ccd674e9f3",
   "metadata": {},
   "outputs": [],
   "source": [
    "post = pd.read_csv('caregiver_spouse_adrd_online_post.csv', index_col=0).reset_index(drop=True)"
   ]
  },
  {
   "cell_type": "code",
   "execution_count": 846,
   "id": "e0b35c69-52e1-43ca-8115-25bafc72cc04",
   "metadata": {},
   "outputs": [],
   "source": [
    "post = post.dropna(subset=['Relationship_toPersonwithDementia', 'content'])"
   ]
  },
  {
   "cell_type": "code",
   "execution_count": 847,
   "id": "09366286-6808-4027-a3a0-0a2b2f484047",
   "metadata": {},
   "outputs": [
    {
     "data": {
      "application/vnd.jupyter.widget-view+json": {
       "model_id": "8a465908d7ee4b22a412f55bc20071b7",
       "version_major": 2,
       "version_minor": 0
      },
      "text/plain": [
       "Pandas Apply:   0%|          | 0/533429 [00:00<?, ?it/s]"
      ]
     },
     "metadata": {},
     "output_type": "display_data"
    }
   ],
   "source": [
    "post['content'] = post.content.swifter.apply(lambda x: x.replace(u'\\xa0', u' ').replace('\\n', ' ').replace('\\t', ' ').replace('\\r', ' '))"
   ]
  },
  {
   "cell_type": "code",
   "execution_count": 848,
   "id": "1277589d-a679-4837-ae56-76257a9b676d",
   "metadata": {},
   "outputs": [
    {
     "data": {
      "application/vnd.jupyter.widget-view+json": {
       "model_id": "30928217a4d44738b7dbee79acde394f",
       "version_major": 2,
       "version_minor": 0
      },
      "text/plain": [
       "Pandas Apply:   0%|          | 0/533429 [00:00<?, ?it/s]"
      ]
     },
     "metadata": {},
     "output_type": "display_data"
    }
   ],
   "source": [
    "post['content_len'] = post.content.swifter.apply(lambda x: len(x.split()))"
   ]
  },
  {
   "cell_type": "code",
   "execution_count": 850,
   "id": "619a98ae-e670-4d98-9661-9a02a2dbc751",
   "metadata": {},
   "outputs": [
    {
     "data": {
      "text/plain": [
       "508030"
      ]
     },
     "execution_count": 850,
     "metadata": {},
     "output_type": "execute_result"
    }
   ],
   "source": [
    "len(post)"
   ]
  },
  {
   "cell_type": "code",
   "execution_count": 851,
   "id": "97924a57-5f21-4a8e-840a-13b95a55157a",
   "metadata": {},
   "outputs": [
    {
     "data": {
      "text/plain": [
       "I am their partner or spouse     245105\n",
       "I am their child                 205322\n",
       "I have dementia                   20880\n",
       "I am their relative               18240\n",
       "I am a professional caregiver      5228\n",
       "I am their grandchild              4045\n",
       "Not Shared                         3924\n",
       "I am their friend                  2696\n",
       "I am their sibling                 2433\n",
       "I am their neighbor                 157\n",
       "Name: Relationship_toPersonwithDementia, dtype: int64"
      ]
     },
     "execution_count": 851,
     "metadata": {},
     "output_type": "execute_result"
    }
   ],
   "source": [
    "post['Relationship_toPersonwithDementia'].value_counts()"
   ]
  },
  {
   "cell_type": "code",
   "execution_count": 852,
   "id": "ff0b6db5-54b4-4452-99e8-6fd10191e6c2",
   "metadata": {},
   "outputs": [],
   "source": [
    "def relation_map(x):\n",
    "    if x == 'I am their partner or spouse' or x == 'I am their child':\n",
    "        return x\n",
    "    else:\n",
    "        return 'Other'"
   ]
  },
  {
   "cell_type": "code",
   "execution_count": 853,
   "id": "a3496067-cd96-4ccc-9e67-b75338318da5",
   "metadata": {},
   "outputs": [
    {
     "data": {
      "application/vnd.jupyter.widget-view+json": {
       "model_id": "43de50f2de044a1281e50d979b8d2dc1",
       "version_major": 2,
       "version_minor": 0
      },
      "text/plain": [
       "Pandas Apply:   0%|          | 0/508030 [00:00<?, ?it/s]"
      ]
     },
     "metadata": {},
     "output_type": "display_data"
    }
   ],
   "source": [
    "post['Relationship'] = post['Relationship_toPersonwithDementia'].swifter.apply(lambda x: relation_map(x))"
   ]
  },
  {
   "cell_type": "code",
   "execution_count": 854,
   "id": "3a858379-0fa1-4a4c-b0a1-5fd6777dcccf",
   "metadata": {
    "collapsed": true,
    "jupyter": {
     "outputs_hidden": true
    },
    "tags": []
   },
   "outputs": [
    {
     "data": {
      "image/png": "[encoded data removed]",
      "text/plain": [
       "<Figure size 1500x500 with 3 Axes>"
      ]
     },
     "metadata": {},
     "output_type": "display_data"
    }
   ],
   "source": [
    "g = sns.displot(\n",
    "    data=post, x='content_len',\n",
    "    col='Relationship',  \n",
    "    facet_kws=dict(sharey=False, sharex=False),\n",
    "    log_scale=(10,False)\n",
    ")\n",
    "\n",
    "def specs(x, **kwargs):\n",
    "    plt.axvline(x.mean(), c='k', ls='-', lw=2.5)\n",
    "    plt.axvline(x.median(), c='orange', ls='--', lw=2.5)\n",
    "\n",
    "g.map(specs,'content_len')\n",
    "plt.show()"
   ]
  },
  {
   "cell_type": "code",
   "execution_count": 855,
   "id": "673dab17-b482-4932-9e43-ff63f9d11d36",
   "metadata": {},
   "outputs": [
    {
     "data": {
      "text/plain": [
       "I am their partner or spouse    245105\n",
       "I am their child                205322\n",
       "Other                            57603\n",
       "Name: Relationship, dtype: int64"
      ]
     },
     "execution_count": 855,
     "metadata": {},
     "output_type": "execute_result"
    }
   ],
   "source": [
    "post['Relationship'].value_counts()"
   ]
  },
  {
   "cell_type": "code",
   "execution_count": 860,
   "id": "805ed8c3-da1e-497f-a62e-bbcbb05df68b",
   "metadata": {},
   "outputs": [],
   "source": [
    "def relation_class(x):\n",
    "    if x == 'I am their partner or spouse':\n",
    "        return 0\n",
    "    elif x == 'I am their child':\n",
    "        return 1\n",
    "    else:\n",
    "        return 2"
   ]
  },
  {
   "cell_type": "code",
   "execution_count": 861,
   "id": "fe896eb6-682b-4799-822e-da3fedc644d5",
   "metadata": {},
   "outputs": [
    {
     "data": {
      "application/vnd.jupyter.widget-view+json": {
       "model_id": "c8b1b63c65384c7cb8c0a907e4dee9c7",
       "version_major": 2,
       "version_minor": 0
      },
      "text/plain": [
       "Pandas Apply:   0%|          | 0/18412 [00:00<?, ?it/s]"
      ]
     },
     "metadata": {},
     "output_type": "display_data"
    }
   ],
   "source": [
    "user['Relationship class'] = user.Relationship.swifter.apply(lambda x: relation_class(x))"
   ]
  },
  {
   "cell_type": "code",
   "execution_count": 262,
   "id": "6356526d-5da9-4c4e-b5b8-2f94312e416a",
   "metadata": {},
   "outputs": [],
   "source": [
    "post2user = dict(zip(post.post_id, post.user_id))\n",
    "post2topic = dict(zip(post.post_id, post.topic_id))\n",
    "post2content = dict(zip(post.post_id, post.content))"
   ]
  },
  {
   "cell_type": "code",
   "execution_count": 862,
   "id": "b5fdf030-0f7a-433a-b21e-230c41d90645",
   "metadata": {},
   "outputs": [],
   "source": [
    "train_user, test_user = train_test_split(user, test_size=0.2, stratify=user['Relationship class'], random_state=19)"
   ]
  },
  {
   "cell_type": "code",
   "execution_count": 863,
   "id": "76dec816-479c-4f6a-b5c6-2c08ba6280e9",
   "metadata": {},
   "outputs": [],
   "source": [
    "train_post = post[post.user_id.isin(train_user.user_id)].reset_index(drop=True)"
   ]
  },
  {
   "cell_type": "code",
   "execution_count": 864,
   "id": "1c0479c0-1ff2-429f-9525-3557582a02a1",
   "metadata": {},
   "outputs": [],
   "source": [
    "test_post = post[post.user_id.isin(test_user.user_id)].reset_index(drop=True)"
   ]
  },
  {
   "cell_type": "code",
   "execution_count": 869,
   "id": "4582f4d1-ee1f-4346-9d97-43e679dd49bb",
   "metadata": {},
   "outputs": [],
   "source": [
    "test_post_2class = test_post[test_post['Relationship'] != 'Other'].reset_index(drop=True)"
   ]
  },
  {
   "cell_type": "code",
   "execution_count": 871,
   "id": "f0b79d6d-ad9b-44a6-a7e5-1d2b8bc0c0f5",
   "metadata": {},
   "outputs": [],
   "source": [
    "test_post_2class[['user_id', 'content', 'join_date', 'post_date']].to_csv('./multi-task-NLP-master/adrd/data/all_test_post.tsv', sep='\\t')"
   ]
  },
  {
   "cell_type": "code",
   "execution_count": 872,
   "id": "b58cd2be-7a4f-4901-8a44-1a821faa2f23",
   "metadata": {},
   "outputs": [],
   "source": [
    "test_post_2class[['Relationship','content']].to_csv('./multi-task-NLP-master/adrd/data/userclass_test_all.tsv', sep='\\t')"
   ]
  },
  {
   "cell_type": "code",
   "execution_count": 242,
   "id": "d3c0ff49-ccef-4f9a-8b50-2d53c8e88420",
   "metadata": {},
   "outputs": [],
   "source": [
    "def get_sample_post(x):\n",
    "    if len(x) <= 10:\n",
    "        return x\n",
    "    else:\n",
    "        return x.sample(10, random_state=31)"
   ]
  },
  {
   "cell_type": "code",
   "execution_count": 370,
   "id": "d0934574-4e2f-449c-b43e-449f4d4023ba",
   "metadata": {},
   "outputs": [],
   "source": [
    "current_post = train_post\n",
    "NUM_SAMPLE = 53924\n",
    "# current_post = test_post\n",
    "# NUM_SAMPLE = 13631"
   ]
  },
  {
   "cell_type": "code",
   "execution_count": 371,
   "id": "4e21720e-de94-42ab-a0b4-0fde3cce315e",
   "metadata": {},
   "outputs": [],
   "source": [
    "user_post = current_post.groupby('user_id').apply(lambda x: get_sample_post(x.post_id).to_numpy()).rename('post_id').reset_index()"
   ]
  },
  {
   "cell_type": "code",
   "execution_count": 372,
   "id": "4ada64dd-74ec-434f-9baf-8232c2848f95",
   "metadata": {},
   "outputs": [
    {
     "data": {
      "application/vnd.jupyter.widget-view+json": {
       "model_id": "e1846e2df1da427d96f9ad5d6d564d01",
       "version_major": 2,
       "version_minor": 0
      },
      "text/plain": [
       "Pandas Apply:   0%|          | 0/14729 [00:00<?, ?it/s]"
      ]
     },
     "metadata": {},
     "output_type": "display_data"
    }
   ],
   "source": [
    "user_post['num_post'] = user_post.post_id.swifter.apply(lambda x: len(x))"
   ]
  },
  {
   "cell_type": "code",
   "execution_count": 373,
   "id": "80e59e50-4f13-40df-9f3e-72b2093d1ad7",
   "metadata": {},
   "outputs": [],
   "source": [
    "user_two_post = user_post[user_post['num_post'] > 1]"
   ]
  },
  {
   "cell_type": "code",
   "execution_count": 374,
   "id": "55745795-e403-4629-bf82-78081fe15983",
   "metadata": {},
   "outputs": [
    {
     "data": {
      "text/plain": [
       "(14729, 8823)"
      ]
     },
     "execution_count": 374,
     "metadata": {},
     "output_type": "execute_result"
    }
   ],
   "source": [
    "len(user_post), len(user_two_post)"
   ]
  },
  {
   "cell_type": "code",
   "execution_count": 375,
   "id": "1d153a17-8c03-42af-819d-220d801a8020",
   "metadata": {},
   "outputs": [],
   "source": [
    "num_two_post = user_two_post.num_post.to_numpy()"
   ]
  },
  {
   "cell_type": "code",
   "execution_count": 376,
   "id": "ca512be6-795c-47c2-beed-5d57563e29e9",
   "metadata": {},
   "outputs": [],
   "source": [
    "num_two_post = num_two_post / np.linalg.norm(num_two_post, 1)"
   ]
  },
  {
   "cell_type": "code",
   "execution_count": 377,
   "id": "75175e2d-d62a-464d-80e2-dfe14836a88c",
   "metadata": {
    "tags": []
   },
   "outputs": [
    {
     "name": "stderr",
     "output_type": "stream",
     "text": [
      "100%|███████████████████████████████████████████████████████████████████████████| 26962/26962 [01:11<00:00, 377.58it/s]\n"
     ]
    }
   ],
   "source": [
    "rng = np.random.default_rng( )\n",
    "pos_post_pair = pd.DataFrame(columns=['A','B'])\n",
    "for i in tqdm(range(np.floor(NUM_SAMPLE / 2).astype(int))):\n",
    "    sample = rng.choice(user_two_post, 1, p=num_two_post)\n",
    "    A, B = np.random.choice(sample[0][1], 2, replace=False)\n",
    "    pos_post_pair = pos_post_pair.append({'A': post2content[A], 'B': post2content[B]}, ignore_index=True)\n",
    "pos_post_pair['C'] = 1"
   ]
  },
  {
   "cell_type": "code",
   "execution_count": 378,
   "id": "3e9f7f9d-1c96-439d-8eab-3aecb5bde3af",
   "metadata": {},
   "outputs": [],
   "source": [
    "num_post = user_post.num_post.to_numpy()"
   ]
  },
  {
   "cell_type": "code",
   "execution_count": 379,
   "id": "e96bcdd1-0c5a-406f-a975-6adf463c0cde",
   "metadata": {},
   "outputs": [],
   "source": [
    "num_post = num_post / np.linalg.norm(num_post, 1)"
   ]
  },
  {
   "cell_type": "code",
   "execution_count": 380,
   "id": "38bf3faf-820c-407e-b038-0500c99da89f",
   "metadata": {},
   "outputs": [
    {
     "name": "stderr",
     "output_type": "stream",
     "text": [
      "100%|███████████████████████████████████████████████████████████████████████████| 26962/26962 [01:21<00:00, 329.49it/s]\n"
     ]
    }
   ],
   "source": [
    "rng = np.random.default_rng()\n",
    "neg_post_pair = pd.DataFrame(columns=['A','B'])\n",
    "for i in tqdm(range(np.ceil(NUM_SAMPLE / 2).astype(int))):\n",
    "    while True:\n",
    "        sample = rng.choice(user_post, 2, p=num_post)\n",
    "        A = np.random.choice(sample[0][1], 1)[0]\n",
    "        B = np.random.choice(sample[1][1], 1)[0]\n",
    "        if post2topic[A] != post2topic[B]:\n",
    "            break\n",
    "    neg_post_pair = neg_post_pair.append({'A': post2content[A], 'B': post2content[B]}, ignore_index=True)\n",
    "neg_post_pair['C'] = 0"
   ]
  },
  {
   "cell_type": "code",
   "execution_count": 381,
   "id": "f44412d3-4815-43b6-ba85-f9a0b721fa52",
   "metadata": {},
   "outputs": [],
   "source": [
    "post_pair = pd.concat([neg_post_pair, pos_post_pair]).reset_index(drop=True)"
   ]
  },
  {
   "cell_type": "code",
   "execution_count": 382,
   "id": "e0eb41b4-b9a6-462e-9f43-639e26832b98",
   "metadata": {},
   "outputs": [],
   "source": [
    "topic_post = current_post.groupby('topic_id').apply(lambda x: get_sample_post(x.post_id).to_numpy()).rename('post_id').reset_index()"
   ]
  },
  {
   "cell_type": "code",
   "execution_count": 383,
   "id": "6e64c99e-308f-4c84-8df1-303ca258976b",
   "metadata": {},
   "outputs": [
    {
     "data": {
      "application/vnd.jupyter.widget-view+json": {
       "model_id": "643ab4d239eb46fe9e78895184c1fb8b",
       "version_major": 2,
       "version_minor": 0
      },
      "text/plain": [
       "Pandas Apply:   0%|          | 0/56395 [00:00<?, ?it/s]"
      ]
     },
     "metadata": {},
     "output_type": "display_data"
    }
   ],
   "source": [
    "topic_post['num_post'] = topic_post.post_id.swifter.apply(lambda x: len(x))"
   ]
  },
  {
   "cell_type": "code",
   "execution_count": 384,
   "id": "0780cdf4-fee3-4655-8964-f689a9eea31f",
   "metadata": {},
   "outputs": [],
   "source": [
    "topic_two_post = topic_post[topic_post['num_post'] > 1]"
   ]
  },
  {
   "cell_type": "code",
   "execution_count": 386,
   "id": "6d6e2135-445f-4b50-a3b5-4f743bf4f2f5",
   "metadata": {},
   "outputs": [],
   "source": [
    "num_two_topic = topic_two_post.num_post.to_numpy()"
   ]
  },
  {
   "cell_type": "code",
   "execution_count": 387,
   "id": "6ad9f823-cecf-4a07-a86d-e6975b0ef8f4",
   "metadata": {},
   "outputs": [],
   "source": [
    "num_two_topic = num_two_topic / np.linalg.norm(num_two_topic, 1)"
   ]
  },
  {
   "cell_type": "code",
   "execution_count": 388,
   "id": "1ff67805-85ff-4ac9-94ae-3195182173aa",
   "metadata": {},
   "outputs": [
    {
     "name": "stderr",
     "output_type": "stream",
     "text": [
      "100%|███████████████████████████████████████████████████████████████████████████| 26962/26962 [03:12<00:00, 139.79it/s]\n"
     ]
    }
   ],
   "source": [
    "rng = np.random.default_rng()\n",
    "pos_topic_pair = pd.DataFrame(columns=['A','B'])\n",
    "for i in tqdm(range(np.floor(NUM_SAMPLE / 2).astype(int))):\n",
    "    sample = rng.choice(topic_two_post, 1, p=num_two_topic)\n",
    "    A, B = np.random.choice(sample[0][1], 2, replace=False)\n",
    "    pos_topic_pair = pos_topic_pair.append({'A': post2content[A], 'B': post2content[B]}, ignore_index=True)\n",
    "pos_topic_pair['C'] = 1"
   ]
  },
  {
   "cell_type": "code",
   "execution_count": 389,
   "id": "529f29d6-8f77-4a44-98be-bb3d02893fc9",
   "metadata": {},
   "outputs": [],
   "source": [
    "num_topic = topic_post.num_post.to_numpy()"
   ]
  },
  {
   "cell_type": "code",
   "execution_count": 390,
   "id": "0ac9bfec-3378-4aa5-a533-fbac7dc32480",
   "metadata": {},
   "outputs": [],
   "source": [
    "num_topic = num_topic / np.linalg.norm(num_topic, 1)"
   ]
  },
  {
   "cell_type": "code",
   "execution_count": 391,
   "id": "f21296aa-559f-44cd-9aa1-6a686dbe3a78",
   "metadata": {},
   "outputs": [
    {
     "name": "stderr",
     "output_type": "stream",
     "text": [
      "100%|███████████████████████████████████████████████████████████████████████████| 26962/26962 [03:32<00:00, 127.01it/s]\n"
     ]
    }
   ],
   "source": [
    "rng = np.random.default_rng()\n",
    "neg_topic_pair = pd.DataFrame(columns=['A','B'])\n",
    "for i in tqdm(range(np.ceil(NUM_SAMPLE / 2).astype(int))):\n",
    "    while True:\n",
    "        sample = rng.choice(topic_post, 2, p=num_topic)\n",
    "        A = np.random.choice(sample[0][1], 1)[0]\n",
    "        B = np.random.choice(sample[1][1], 1)[0]\n",
    "        if post2user[A] != post2user[B]:\n",
    "            break\n",
    "    neg_topic_pair = neg_topic_pair.append({'A': post2content[A], 'B': post2content[B]}, ignore_index=True)\n",
    "neg_topic_pair['C'] = 0"
   ]
  },
  {
   "cell_type": "code",
   "execution_count": 392,
   "id": "52c92262-b5db-47fa-b4e0-94c448dff534",
   "metadata": {},
   "outputs": [],
   "source": [
    "topic_pair = pd.concat([neg_topic_pair, pos_topic_pair]).reset_index(drop=True)"
   ]
  },
  {
   "cell_type": "code",
   "execution_count": 393,
   "id": "3e4cc8e3-05ad-4f26-8ef8-56d3b5d5fd2c",
   "metadata": {},
   "outputs": [
    {
     "data": {
      "text/plain": [
       "53924"
      ]
     },
     "execution_count": 393,
     "metadata": {},
     "output_type": "execute_result"
    }
   ],
   "source": [
    "len(topic_pair)"
   ]
  },
  {
   "cell_type": "code",
   "execution_count": 310,
   "id": "8f19728f-d217-433f-bbb7-5465320099a0",
   "metadata": {},
   "outputs": [],
   "source": [
    "sample_post = current_post.groupby('user_id').apply(lambda x: get_sample_post(x)).reset_index(drop=True)"
   ]
  },
  {
   "cell_type": "code",
   "execution_count": 311,
   "id": "0d0f7ec3-b637-4555-b41f-f963841f296a",
   "metadata": {},
   "outputs": [],
   "source": [
    "sample_post = sample_post[['Relationship','content','user_id']].sample(frac=1, random_state=42).reset_index(drop=True)"
   ]
  },
  {
   "cell_type": "code",
   "execution_count": 313,
   "id": "b610d13d-4434-4849-9ca1-ab50cff89d80",
   "metadata": {},
   "outputs": [],
   "source": [
    "sample_post[['Relationship','content']].to_csv('./multi-task-NLP-master/adrd/data/userclass_test.tsv', sep=\"\\t\" , header=False)"
   ]
  },
  {
   "cell_type": "code",
   "execution_count": 308,
   "id": "05dfc5fa-a5da-40f2-a1dd-c42d315f9e0c",
   "metadata": {},
   "outputs": [],
   "source": [
    "sample_post[['Relationship','content']].sample(frac=1, random_state=42).reset_index(drop=True).to_csv('./multi-task-NLP-master/adrd/data/userclass_train.tsv', sep=\"\\t\" , header=False)"
   ]
  },
  {
   "cell_type": "code",
   "execution_count": 276,
   "id": "ae96f21b-f440-4e09-b358-ff1a3f37c54f",
   "metadata": {},
   "outputs": [],
   "source": [
    "sample_post = pd.read_csv('./multi-task-NLP-master/adrd/data/userclass_test.tsv', sep='\\t', header=None)\n",
    "topic_pair = pd.read_csv('./multi-task-NLP-master/adrd/data/sametopic_dev.tsv', sep=\"\\t\" , header=None)\n",
    "post_pair = pd.read_csv('./multi-task-NLP-master/adrd/data/sameuser_dev.tsv', sep=\"\\t\" , header=None)"
   ]
  },
  {
   "cell_type": "code",
   "execution_count": 273,
   "id": "6ac0af41-02c2-4652-b88f-10e888ea05d2",
   "metadata": {},
   "outputs": [],
   "source": [
    "sample_post.sample(frac=1).reset_index(drop=True).iloc[:,1:].to_csv('./multi-task-NLP-master/adrd/data/userclass_dev.tsv', sep=\"\\t\" , header=False)"
   ]
  },
  {
   "cell_type": "code",
   "execution_count": 274,
   "id": "af705304-833c-4b06-a668-d5570802058f",
   "metadata": {},
   "outputs": [],
   "source": [
    "topic_pair.sample(frac=1).reset_index(drop=True).iloc[:,1:].to_csv('./multi-task-NLP-master/adrd/data/sametopic_dev.tsv', sep=\"\\t\" , header=False)"
   ]
  },
  {
   "cell_type": "code",
   "execution_count": 275,
   "id": "66c58887-94a0-4901-9c53-1bb3aacdee3e",
   "metadata": {},
   "outputs": [],
   "source": [
    "post_pair.sample(frac=1).reset_index(drop=True).iloc[:,1:].to_csv('./multi-task-NLP-master/adrd/data/sameuser_dev.tsv', sep=\"\\t\" , header=False)"
   ]
  },
  {
   "cell_type": "code",
   "execution_count": 79,
   "id": "b0d45902-a43e-4681-9678-52c13f11edba",
   "metadata": {},
   "outputs": [],
   "source": [
    "import joblib"
   ]
  },
  {
   "cell_type": "code",
   "execution_count": 80,
   "id": "5ff2c930-ebb0-43db-a19c-74f8703c4749",
   "metadata": {},
   "outputs": [],
   "source": [
    "labelMapInt = {'I am their partner or spouse':0, 'I am their child':1, 'Other':2}"
   ]
  },
  {
   "cell_type": "code",
   "execution_count": 81,
   "id": "8ef2d4ef-e71e-4cb3-8c5b-e62cd45339f9",
   "metadata": {},
   "outputs": [
    {
     "data": {
      "text/plain": [
       "['./multi-task-NLP-master/adrd/data/int_userclass_label_map.joblib']"
      ]
     },
     "execution_count": 81,
     "metadata": {},
     "output_type": "execute_result"
    }
   ],
   "source": [
    "joblib.dump(labelMapInt, './multi-task-NLP-master/adrd/data/int_userclass_label_map.joblib')"
   ]
  },
  {
   "cell_type": "code",
   "execution_count": 155,
   "id": "cb58cbf9-c7f1-4288-96fd-3cdd84b07747",
   "metadata": {},
   "outputs": [
    {
     "data": {
      "text/plain": [
       "\"Hi, hicksj19, welcome to the forum.    If your parents have not consulted an elder law attorney about their financial situation, they should.  There are ways to protect your father's fair share of their assets while still qualifying your mother for Government assistance programs such as Medicaid.   You can look for an elder law specialist at:http://www.elderlawanswers.comhttp://www.naela.org/MemberDirectory/http://www.nelf.org/http://www.caring.com/local/elder-law-attorneys     Also, if you haven't done so, contact their Area Agency on Aging:http://www.aoa.gov/AoARoot/AoA_Programs/OAA/How_To_Find/Agencies/find_agencies.aspxto find out what programs and services are available where they live.   Ask them for an in-home assessment, too, to help the family decide what the best options are (in-home care, assisted living, etc) for both parents.   As for getting another caregiver right away ... it doesn't really   sound to me as if that is an option.  Who else is going to take care of your   mother, since your father can't?\""
      ]
     },
     "execution_count": 155,
     "metadata": {},
     "output_type": "execute_result"
    }
   ],
   "source": [
    "post[post['Relationship to Person with Dementia'] == 'I am their relative'].content.sample().item()"
   ]
  },
  {
   "cell_type": "markdown",
   "id": "a94856a8-a396-4f05-b0a9-5c3c410e38c5",
   "metadata": {
    "tags": []
   },
   "source": [
    "# Load Data"
   ]
  },
  {
   "cell_type": "markdown",
   "id": "ba2c4e74-6c0b-4d7a-b5b1-ec5f1f811b2d",
   "metadata": {},
   "source": [
    "## Multi Task"
   ]
  },
  {
   "cell_type": "code",
   "execution_count": 1242,
   "id": "71c940ff-b3cd-4aea-8c55-a0dbcd7cc434",
   "metadata": {},
   "outputs": [],
   "source": [
    "train_post = pd.read_csv('./multi-task-NLP-master/adrd/data/userclass_train.tsv', sep='\\t', header=None, index_col=0)\n",
    "test_post = pd.read_csv('./multi-task-NLP-master/adrd/data/userclass_test_with_userid.tsv', sep='\\t', header=None, index_col=0)"
   ]
  },
  {
   "cell_type": "code",
   "execution_count": 1243,
   "id": "c84c1ac8-cd18-4ed2-8b29-a2d01e34c69c",
   "metadata": {},
   "outputs": [
    {
     "data": {
      "text/plain": [
       "3683"
      ]
     },
     "execution_count": 1243,
     "metadata": {},
     "output_type": "execute_result"
    }
   ],
   "source": [
    "len(test_post.iloc[:,2].unique())"
   ]
  },
  {
   "cell_type": "code",
   "execution_count": 1245,
   "id": "e070feca-d638-4924-8d3c-fb8b86fde257",
   "metadata": {},
   "outputs": [],
   "source": [
    "pred_post = pd.read_csv('./multi-task-NLP-master/result/userclass_test_predictions_emb512_epoch10.tsv', sep='\\t')"
   ]
  },
  {
   "cell_type": "code",
   "execution_count": 1246,
   "id": "5be7549c-a3c7-4945-b85b-0928012e23cb",
   "metadata": {},
   "outputs": [],
   "source": [
    "pred_post = pred_post.sort_values('uid').set_index('uid')"
   ]
  },
  {
   "cell_type": "code",
   "execution_count": 1247,
   "id": "6ef5962f-acbd-4f92-b5ac-371fa8f3232f",
   "metadata": {},
   "outputs": [],
   "source": [
    "def person_pred(x):\n",
    "    d = dict(x.prediction.apply(lambda x: relation_class(x)).value_counts())\n",
    "    proba = [0, 0, 0]\n",
    "    for k,v in d.items():\n",
    "        proba[k] = v\n",
    "    proba = proba / np.sum(proba)\n",
    "    return proba"
   ]
  },
  {
   "cell_type": "code",
   "execution_count": 1248,
   "id": "06d55a24-a266-4c58-a287-97cda4cd64fc",
   "metadata": {},
   "outputs": [
    {
     "data": {
      "application/vnd.jupyter.widget-view+json": {
       "model_id": "91ed7985819f44f082fd28a16a844520",
       "version_major": 2,
       "version_minor": 0
      },
      "text/plain": [
       "Pandas Apply:   0%|          | 0/13630 [00:00<?, ?it/s]"
      ]
     },
     "metadata": {},
     "output_type": "display_data"
    }
   ],
   "source": [
    "pred_post['score'] = pred_post.score.swifter.apply(lambda x : np.array([float(s) for s in x[1:-1].split()]))"
   ]
  },
  {
   "cell_type": "code",
   "execution_count": 1249,
   "id": "2f1dee4c-a89f-4832-ae7e-74efdfd5c061",
   "metadata": {},
   "outputs": [],
   "source": [
    "pred_post['user'] = test_post.iloc[:,2]"
   ]
  },
  {
   "cell_type": "code",
   "execution_count": 1250,
   "id": "6bc65de5-1893-4725-b583-4ddd23c3eae3",
   "metadata": {},
   "outputs": [],
   "source": [
    "def relation_class(x):\n",
    "    if x == 'I am their partner or spouse':\n",
    "        return 0\n",
    "    elif x == 'I am their child':\n",
    "        return 1\n",
    "    else:\n",
    "        return 2"
   ]
  },
  {
   "cell_type": "code",
   "execution_count": 1251,
   "id": "d055d7d6-8318-416d-9ec0-11da215b2ffa",
   "metadata": {},
   "outputs": [],
   "source": [
    "test_user = pred_post[['user','label']].drop_duplicates().reset_index(drop=True)"
   ]
  },
  {
   "cell_type": "code",
   "execution_count": 1252,
   "id": "8da2237d-08a8-427f-aa2f-8c65b09428f0",
   "metadata": {
    "tags": []
   },
   "outputs": [],
   "source": [
    "test_user = test_user.join(pred_post.groupby('user').apply(lambda x : np.mean(np.stack(x.score.to_numpy(), axis=0), axis=0)).rename('probability'), on='user', how='left')\n",
    "test_user = test_user.join(pred_post.groupby('user').apply(lambda x : person_pred(x)).rename('proba'), on='user', how='left')\n",
    "test_user['pred'] = test_user.probability.swifter.apply(lambda x: np.argmax(x))"
   ]
  },
  {
   "cell_type": "code",
   "execution_count": 1255,
   "id": "394d15de-7426-47d3-9785-ff827ad99028",
   "metadata": {},
   "outputs": [
    {
     "data": {
      "text/plain": [
       "I am their child                2179\n",
       "I am their partner or spouse     860\n",
       "Other                            644\n",
       "Name: label, dtype: int64"
      ]
     },
     "execution_count": 1255,
     "metadata": {},
     "output_type": "execute_result"
    }
   ],
   "source": [
    "test_user['label'].value_counts()"
   ]
  },
  {
   "cell_type": "code",
   "execution_count": 1256,
   "id": "fec1d976-c812-4be7-813c-0a9e4327ff99",
   "metadata": {},
   "outputs": [],
   "source": [
    "sss = StratifiedShuffleSplit(n_splits=10, test_size=0.9, random_state=11)"
   ]
  },
  {
   "cell_type": "code",
   "execution_count": 1257,
   "id": "24dff7ab-0228-45c3-8f0f-8800f79805aa",
   "metadata": {
    "tags": []
   },
   "outputs": [
    {
     "data": {
      "application/vnd.jupyter.widget-view+json": {
       "model_id": "3ce632c07891422d8c4352d945c2f6a6",
       "version_major": 2,
       "version_minor": 0
      },
      "text/plain": [
       "Pandas Apply:   0%|          | 0/12267 [00:00<?, ?it/s]"
      ]
     },
     "metadata": {},
     "output_type": "display_data"
    },
    {
     "data": {
      "application/vnd.jupyter.widget-view+json": {
       "model_id": "75b49efb0a834a6384b7292cd2a05dfc",
       "version_major": 2,
       "version_minor": 0
      },
      "text/plain": [
       "Pandas Apply:   0%|          | 0/12267 [00:00<?, ?it/s]"
      ]
     },
     "metadata": {},
     "output_type": "display_data"
    },
    {
     "data": {
      "application/vnd.jupyter.widget-view+json": {
       "model_id": "0d86ca41562e47118401798f2c394909",
       "version_major": 2,
       "version_minor": 0
      },
      "text/plain": [
       "Pandas Apply:   0%|          | 0/12267 [00:00<?, ?it/s]"
      ]
     },
     "metadata": {},
     "output_type": "display_data"
    },
    {
     "data": {
      "application/vnd.jupyter.widget-view+json": {
       "model_id": "a3d585dab0b34b5aaae69c5d56388112",
       "version_major": 2,
       "version_minor": 0
      },
      "text/plain": [
       "Pandas Apply:   0%|          | 0/12267 [00:00<?, ?it/s]"
      ]
     },
     "metadata": {},
     "output_type": "display_data"
    },
    {
     "data": {
      "application/vnd.jupyter.widget-view+json": {
       "model_id": "afb12c6db6df45d388958425a09bc9fe",
       "version_major": 2,
       "version_minor": 0
      },
      "text/plain": [
       "Pandas Apply:   0%|          | 0/12267 [00:00<?, ?it/s]"
      ]
     },
     "metadata": {},
     "output_type": "display_data"
    },
    {
     "data": {
      "application/vnd.jupyter.widget-view+json": {
       "model_id": "a6e46cd3763247fdae4350572704d6c2",
       "version_major": 2,
       "version_minor": 0
      },
      "text/plain": [
       "Pandas Apply:   0%|          | 0/12267 [00:00<?, ?it/s]"
      ]
     },
     "metadata": {},
     "output_type": "display_data"
    },
    {
     "data": {
      "application/vnd.jupyter.widget-view+json": {
       "model_id": "a5efa08a479e4cfe9fa49c19d1c31c94",
       "version_major": 2,
       "version_minor": 0
      },
      "text/plain": [
       "Pandas Apply:   0%|          | 0/12267 [00:00<?, ?it/s]"
      ]
     },
     "metadata": {},
     "output_type": "display_data"
    },
    {
     "data": {
      "application/vnd.jupyter.widget-view+json": {
       "model_id": "0049afcd718b40ccbcb3e8e0a96a511b",
       "version_major": 2,
       "version_minor": 0
      },
      "text/plain": [
       "Pandas Apply:   0%|          | 0/12267 [00:00<?, ?it/s]"
      ]
     },
     "metadata": {},
     "output_type": "display_data"
    },
    {
     "data": {
      "application/vnd.jupyter.widget-view+json": {
       "model_id": "6d0a2b2a549b4e4db4355532bbcbb9f1",
       "version_major": 2,
       "version_minor": 0
      },
      "text/plain": [
       "Pandas Apply:   0%|          | 0/12267 [00:00<?, ?it/s]"
      ]
     },
     "metadata": {},
     "output_type": "display_data"
    },
    {
     "data": {
      "application/vnd.jupyter.widget-view+json": {
       "model_id": "455e1960dd22460cb20c666ea3ab89e0",
       "version_major": 2,
       "version_minor": 0
      },
      "text/plain": [
       "Pandas Apply:   0%|          | 0/12267 [00:00<?, ?it/s]"
      ]
     },
     "metadata": {},
     "output_type": "display_data"
    },
    {
     "data": {
      "application/vnd.jupyter.widget-view+json": {
       "model_id": "fa58ce5dfa334209a38c0f4812939dfe",
       "version_major": 2,
       "version_minor": 0
      },
      "text/plain": [
       "Pandas Apply:   0%|          | 0/12267 [00:00<?, ?it/s]"
      ]
     },
     "metadata": {},
     "output_type": "display_data"
    },
    {
     "data": {
      "application/vnd.jupyter.widget-view+json": {
       "model_id": "2ad67a5eb63942fe82933a03d45ad52c",
       "version_major": 2,
       "version_minor": 0
      },
      "text/plain": [
       "Pandas Apply:   0%|          | 0/12267 [00:00<?, ?it/s]"
      ]
     },
     "metadata": {},
     "output_type": "display_data"
    },
    {
     "data": {
      "application/vnd.jupyter.widget-view+json": {
       "model_id": "b482949b5f964db8951f347399036e95",
       "version_major": 2,
       "version_minor": 0
      },
      "text/plain": [
       "Pandas Apply:   0%|          | 0/12267 [00:00<?, ?it/s]"
      ]
     },
     "metadata": {},
     "output_type": "display_data"
    },
    {
     "data": {
      "application/vnd.jupyter.widget-view+json": {
       "model_id": "8f7671550b1144dd8f1c2e801197d9ed",
       "version_major": 2,
       "version_minor": 0
      },
      "text/plain": [
       "Pandas Apply:   0%|          | 0/12267 [00:00<?, ?it/s]"
      ]
     },
     "metadata": {},
     "output_type": "display_data"
    },
    {
     "data": {
      "application/vnd.jupyter.widget-view+json": {
       "model_id": "976e99d76cde49f7a0fb626a54fc0663",
       "version_major": 2,
       "version_minor": 0
      },
      "text/plain": [
       "Pandas Apply:   0%|          | 0/12267 [00:00<?, ?it/s]"
      ]
     },
     "metadata": {},
     "output_type": "display_data"
    },
    {
     "data": {
      "application/vnd.jupyter.widget-view+json": {
       "model_id": "92ec1850d58c4fd0ad52e08650593a82",
       "version_major": 2,
       "version_minor": 0
      },
      "text/plain": [
       "Pandas Apply:   0%|          | 0/12267 [00:00<?, ?it/s]"
      ]
     },
     "metadata": {},
     "output_type": "display_data"
    },
    {
     "data": {
      "application/vnd.jupyter.widget-view+json": {
       "model_id": "00a968326ade4b39899f9b3959903403",
       "version_major": 2,
       "version_minor": 0
      },
      "text/plain": [
       "Pandas Apply:   0%|          | 0/12267 [00:00<?, ?it/s]"
      ]
     },
     "metadata": {},
     "output_type": "display_data"
    },
    {
     "data": {
      "application/vnd.jupyter.widget-view+json": {
       "model_id": "c033b69a1f5a43069c0d89c53cb62b4d",
       "version_major": 2,
       "version_minor": 0
      },
      "text/plain": [
       "Pandas Apply:   0%|          | 0/12267 [00:00<?, ?it/s]"
      ]
     },
     "metadata": {},
     "output_type": "display_data"
    },
    {
     "data": {
      "application/vnd.jupyter.widget-view+json": {
       "model_id": "1c478a75340140f38ae0d9c6724ee83f",
       "version_major": 2,
       "version_minor": 0
      },
      "text/plain": [
       "Pandas Apply:   0%|          | 0/12267 [00:00<?, ?it/s]"
      ]
     },
     "metadata": {},
     "output_type": "display_data"
    },
    {
     "data": {
      "application/vnd.jupyter.widget-view+json": {
       "model_id": "5cd0105c65354f1c9b3c398c72eca84e",
       "version_major": 2,
       "version_minor": 0
      },
      "text/plain": [
       "Pandas Apply:   0%|          | 0/12267 [00:00<?, ?it/s]"
      ]
     },
     "metadata": {},
     "output_type": "display_data"
    },
    {
     "data": {
      "application/vnd.jupyter.widget-view+json": {
       "model_id": "af9d508e71824d6fa5fe1eaf2c808ea7",
       "version_major": 2,
       "version_minor": 0
      },
      "text/plain": [
       "Pandas Apply:   0%|          | 0/12267 [00:00<?, ?it/s]"
      ]
     },
     "metadata": {},
     "output_type": "display_data"
    },
    {
     "data": {
      "application/vnd.jupyter.widget-view+json": {
       "model_id": "58179226cc894b6dbd855704958d951a",
       "version_major": 2,
       "version_minor": 0
      },
      "text/plain": [
       "Pandas Apply:   0%|          | 0/12267 [00:00<?, ?it/s]"
      ]
     },
     "metadata": {},
     "output_type": "display_data"
    },
    {
     "data": {
      "application/vnd.jupyter.widget-view+json": {
       "model_id": "0f6f97034b9441859eb012af3a540f73",
       "version_major": 2,
       "version_minor": 0
      },
      "text/plain": [
       "Pandas Apply:   0%|          | 0/12267 [00:00<?, ?it/s]"
      ]
     },
     "metadata": {},
     "output_type": "display_data"
    },
    {
     "data": {
      "application/vnd.jupyter.widget-view+json": {
       "model_id": "2fab76d09233428cb1c8e85c07db7920",
       "version_major": 2,
       "version_minor": 0
      },
      "text/plain": [
       "Pandas Apply:   0%|          | 0/12267 [00:00<?, ?it/s]"
      ]
     },
     "metadata": {},
     "output_type": "display_data"
    },
    {
     "data": {
      "application/vnd.jupyter.widget-view+json": {
       "model_id": "da9b0e123b244a3aad5410c78f62191e",
       "version_major": 2,
       "version_minor": 0
      },
      "text/plain": [
       "Pandas Apply:   0%|          | 0/12267 [00:00<?, ?it/s]"
      ]
     },
     "metadata": {},
     "output_type": "display_data"
    },
    {
     "data": {
      "application/vnd.jupyter.widget-view+json": {
       "model_id": "1dcb29a0ebbf4f95b9a5b45962ba5344",
       "version_major": 2,
       "version_minor": 0
      },
      "text/plain": [
       "Pandas Apply:   0%|          | 0/12267 [00:00<?, ?it/s]"
      ]
     },
     "metadata": {},
     "output_type": "display_data"
    },
    {
     "data": {
      "application/vnd.jupyter.widget-view+json": {
       "model_id": "940440c970544f02869ab01a34583533",
       "version_major": 2,
       "version_minor": 0
      },
      "text/plain": [
       "Pandas Apply:   0%|          | 0/12267 [00:00<?, ?it/s]"
      ]
     },
     "metadata": {},
     "output_type": "display_data"
    },
    {
     "data": {
      "application/vnd.jupyter.widget-view+json": {
       "model_id": "d33d9caa794d4fb483003be7c4e52d41",
       "version_major": 2,
       "version_minor": 0
      },
      "text/plain": [
       "Pandas Apply:   0%|          | 0/12267 [00:00<?, ?it/s]"
      ]
     },
     "metadata": {},
     "output_type": "display_data"
    },
    {
     "data": {
      "application/vnd.jupyter.widget-view+json": {
       "model_id": "e1ae273269ad447d9bd63891513eb9da",
       "version_major": 2,
       "version_minor": 0
      },
      "text/plain": [
       "Pandas Apply:   0%|          | 0/12267 [00:00<?, ?it/s]"
      ]
     },
     "metadata": {},
     "output_type": "display_data"
    },
    {
     "data": {
      "application/vnd.jupyter.widget-view+json": {
       "model_id": "f5e458a12dbc473a97674dc7cb381238",
       "version_major": 2,
       "version_minor": 0
      },
      "text/plain": [
       "Pandas Apply:   0%|          | 0/12267 [00:00<?, ?it/s]"
      ]
     },
     "metadata": {},
     "output_type": "display_data"
    }
   ],
   "source": [
    "ACC = []\n",
    "PRECISION = []\n",
    "RECALL = []\n",
    "FSCORE = []\n",
    "AUC = []\n",
    "\n",
    "for train_index, test_index in sss.split(pred_post, pred_post['label']):\n",
    "    test_post_split = pred_post.loc[test_index,:]\n",
    "    y_pred = test_post_split.prediction.swifter.apply(lambda x: relation_class(x)).to_numpy()\n",
    "    y_true = test_post_split.label.swifter.apply(lambda x: relation_class(x)).to_numpy()\n",
    "    y_true_auc = pd.get_dummies(test_post_split.label.swifter.apply(lambda x: relation_class(x))).to_numpy()\n",
    "    y_pred_auc = np.stack(test_post_split.score.to_numpy(), axis=0)\n",
    "    acc = accuracy_score(y_true, y_pred)\n",
    "    precision, recall, fscore, _ = precision_recall_fscore_support(y_true, y_pred, average='weighted')\n",
    "    auc = roc_auc_score(y_true_auc, y_pred_auc, average='weighted', multi_class='ovr')\n",
    "    ACC.append(acc)\n",
    "    PRECISION.append(precision)\n",
    "    RECALL.append(recall)\n",
    "    FSCORE.append(fscore)\n",
    "    AUC.append(auc) "
   ]
  },
  {
   "cell_type": "code",
   "execution_count": 1258,
   "id": "cb13836a-8a5c-4efd-bbfa-08ae523056f7",
   "metadata": {},
   "outputs": [
    {
     "name": "stdout",
     "output_type": "stream",
     "text": [
      "Accuracy : 0.7737 ± 0.0011\n",
      "Precision : 0.7630 ± 0.0012\n",
      "Recall : 0.7737 ± 0.0011\n",
      "Fscore : 0.7638 ± 0.0012\n",
      "ROCAUC : 0.8852 ± 0.0010\n"
     ]
    }
   ],
   "source": [
    "print('Accuracy : {0:.4f} ± {1:.4f}'.format(np.mean(ACC), np.std(ACC)))\n",
    "print('Precision : {0:.4f} ± {1:.4f}'.format(np.mean(PRECISION), np.std(PRECISION)))\n",
    "print('Recall : {0:.4f} ± {1:.4f}'.format(np.mean(RECALL), np.std(RECALL)))\n",
    "print('Fscore : {0:.4f} ± {1:.4f}'.format(np.mean(FSCORE), np.std(FSCORE)))\n",
    "print('ROCAUC : {0:.4f} ± {1:.4f}'.format(np.mean(AUC), np.std(AUC)))"
   ]
  },
  {
   "cell_type": "code",
   "execution_count": 1259,
   "id": "87efd78a-ee14-40bb-ac9a-e75c8d098b9d",
   "metadata": {
    "tags": []
   },
   "outputs": [
    {
     "data": {
      "application/vnd.jupyter.widget-view+json": {
       "model_id": "ccbb8e9dc8834039907a940b6db54574",
       "version_major": 2,
       "version_minor": 0
      },
      "text/plain": [
       "Pandas Apply:   0%|          | 0/3315 [00:00<?, ?it/s]"
      ]
     },
     "metadata": {},
     "output_type": "display_data"
    },
    {
     "data": {
      "application/vnd.jupyter.widget-view+json": {
       "model_id": "a946cc4cf196421ca1ee1ef5c89c6e38",
       "version_major": 2,
       "version_minor": 0
      },
      "text/plain": [
       "Pandas Apply:   0%|          | 0/3315 [00:00<?, ?it/s]"
      ]
     },
     "metadata": {},
     "output_type": "display_data"
    },
    {
     "data": {
      "application/vnd.jupyter.widget-view+json": {
       "model_id": "36cdf1c117ca4b1f8ba96ed73d1c78ff",
       "version_major": 2,
       "version_minor": 0
      },
      "text/plain": [
       "Pandas Apply:   0%|          | 0/3315 [00:00<?, ?it/s]"
      ]
     },
     "metadata": {},
     "output_type": "display_data"
    },
    {
     "data": {
      "application/vnd.jupyter.widget-view+json": {
       "model_id": "fc62547075de4b3b8483cb9a12001dec",
       "version_major": 2,
       "version_minor": 0
      },
      "text/plain": [
       "Pandas Apply:   0%|          | 0/3315 [00:00<?, ?it/s]"
      ]
     },
     "metadata": {},
     "output_type": "display_data"
    },
    {
     "data": {
      "application/vnd.jupyter.widget-view+json": {
       "model_id": "6d1ebcf28df04d7c83cde2078ab6f4de",
       "version_major": 2,
       "version_minor": 0
      },
      "text/plain": [
       "Pandas Apply:   0%|          | 0/3315 [00:00<?, ?it/s]"
      ]
     },
     "metadata": {},
     "output_type": "display_data"
    },
    {
     "data": {
      "application/vnd.jupyter.widget-view+json": {
       "model_id": "231734d00e0f44d1958b325f5b64ec5f",
       "version_major": 2,
       "version_minor": 0
      },
      "text/plain": [
       "Pandas Apply:   0%|          | 0/3315 [00:00<?, ?it/s]"
      ]
     },
     "metadata": {},
     "output_type": "display_data"
    },
    {
     "data": {
      "application/vnd.jupyter.widget-view+json": {
       "model_id": "70320fd00bb54a7c849999c237bbc389",
       "version_major": 2,
       "version_minor": 0
      },
      "text/plain": [
       "Pandas Apply:   0%|          | 0/3315 [00:00<?, ?it/s]"
      ]
     },
     "metadata": {},
     "output_type": "display_data"
    },
    {
     "data": {
      "application/vnd.jupyter.widget-view+json": {
       "model_id": "7fba96a7e51949638e1b11335cbcf826",
       "version_major": 2,
       "version_minor": 0
      },
      "text/plain": [
       "Pandas Apply:   0%|          | 0/3315 [00:00<?, ?it/s]"
      ]
     },
     "metadata": {},
     "output_type": "display_data"
    },
    {
     "data": {
      "application/vnd.jupyter.widget-view+json": {
       "model_id": "ac0032e4bfd14c5f879b058a70cf9d78",
       "version_major": 2,
       "version_minor": 0
      },
      "text/plain": [
       "Pandas Apply:   0%|          | 0/3315 [00:00<?, ?it/s]"
      ]
     },
     "metadata": {},
     "output_type": "display_data"
    },
    {
     "data": {
      "application/vnd.jupyter.widget-view+json": {
       "model_id": "40dd79b6542e488298676f079a694d9f",
       "version_major": 2,
       "version_minor": 0
      },
      "text/plain": [
       "Pandas Apply:   0%|          | 0/3315 [00:00<?, ?it/s]"
      ]
     },
     "metadata": {},
     "output_type": "display_data"
    },
    {
     "data": {
      "application/vnd.jupyter.widget-view+json": {
       "model_id": "30ccc0e718d5447b98eb8d0ab61a3d66",
       "version_major": 2,
       "version_minor": 0
      },
      "text/plain": [
       "Pandas Apply:   0%|          | 0/3315 [00:00<?, ?it/s]"
      ]
     },
     "metadata": {},
     "output_type": "display_data"
    },
    {
     "data": {
      "application/vnd.jupyter.widget-view+json": {
       "model_id": "865195dd30cd4d11941134a825ef6da0",
       "version_major": 2,
       "version_minor": 0
      },
      "text/plain": [
       "Pandas Apply:   0%|          | 0/3315 [00:00<?, ?it/s]"
      ]
     },
     "metadata": {},
     "output_type": "display_data"
    },
    {
     "data": {
      "application/vnd.jupyter.widget-view+json": {
       "model_id": "6946197710f0441b9f0dfab36170c0e6",
       "version_major": 2,
       "version_minor": 0
      },
      "text/plain": [
       "Pandas Apply:   0%|          | 0/3315 [00:00<?, ?it/s]"
      ]
     },
     "metadata": {},
     "output_type": "display_data"
    },
    {
     "data": {
      "application/vnd.jupyter.widget-view+json": {
       "model_id": "576ffd8fcff346dbac60145d197d17e6",
       "version_major": 2,
       "version_minor": 0
      },
      "text/plain": [
       "Pandas Apply:   0%|          | 0/3315 [00:00<?, ?it/s]"
      ]
     },
     "metadata": {},
     "output_type": "display_data"
    },
    {
     "data": {
      "application/vnd.jupyter.widget-view+json": {
       "model_id": "9829ca99492940aca2ae2a72770d618c",
       "version_major": 2,
       "version_minor": 0
      },
      "text/plain": [
       "Pandas Apply:   0%|          | 0/3315 [00:00<?, ?it/s]"
      ]
     },
     "metadata": {},
     "output_type": "display_data"
    },
    {
     "data": {
      "application/vnd.jupyter.widget-view+json": {
       "model_id": "97abc1e95fac485db930eb604208b6a4",
       "version_major": 2,
       "version_minor": 0
      },
      "text/plain": [
       "Pandas Apply:   0%|          | 0/3315 [00:00<?, ?it/s]"
      ]
     },
     "metadata": {},
     "output_type": "display_data"
    },
    {
     "data": {
      "application/vnd.jupyter.widget-view+json": {
       "model_id": "54a64fb815e543718c5e2b7ebc8ce07e",
       "version_major": 2,
       "version_minor": 0
      },
      "text/plain": [
       "Pandas Apply:   0%|          | 0/3315 [00:00<?, ?it/s]"
      ]
     },
     "metadata": {},
     "output_type": "display_data"
    },
    {
     "data": {
      "application/vnd.jupyter.widget-view+json": {
       "model_id": "c388295c181b4ca591cd8a3505d703c8",
       "version_major": 2,
       "version_minor": 0
      },
      "text/plain": [
       "Pandas Apply:   0%|          | 0/3315 [00:00<?, ?it/s]"
      ]
     },
     "metadata": {},
     "output_type": "display_data"
    },
    {
     "data": {
      "application/vnd.jupyter.widget-view+json": {
       "model_id": "acb0008f0d2745e3ae908355152877ae",
       "version_major": 2,
       "version_minor": 0
      },
      "text/plain": [
       "Pandas Apply:   0%|          | 0/3315 [00:00<?, ?it/s]"
      ]
     },
     "metadata": {},
     "output_type": "display_data"
    },
    {
     "data": {
      "application/vnd.jupyter.widget-view+json": {
       "model_id": "32792be297d64dac9204257d1336615c",
       "version_major": 2,
       "version_minor": 0
      },
      "text/plain": [
       "Pandas Apply:   0%|          | 0/3315 [00:00<?, ?it/s]"
      ]
     },
     "metadata": {},
     "output_type": "display_data"
    }
   ],
   "source": [
    "ACC = []\n",
    "PRECISION = []\n",
    "RECALL = []\n",
    "FSCORE = []\n",
    "AUC = []\n",
    "\n",
    "for train_index, test_index in sss.split(test_user, test_user['label']):\n",
    "    test_user_split = test_user.loc[test_index,:]\n",
    "    y_pred = test_user_split.pred.to_numpy()\n",
    "    y_true = test_user_split.label.swifter.apply(lambda x: relation_class(x)).to_numpy()\n",
    "    y_true_auc = pd.get_dummies(test_user_split.label.swifter.apply(lambda x: relation_class(x))).to_numpy()\n",
    "    y_pred_auc = np.stack(test_user_split.probability.to_numpy(), axis=0)\n",
    "    acc = accuracy_score(y_true, y_pred)\n",
    "    precision, recall, fscore, _ = precision_recall_fscore_support(y_true, y_pred, average='weighted')\n",
    "    auc = roc_auc_score(y_true_auc, y_pred_auc, average='weighted', multi_class='ovr')\n",
    "    ACC.append(acc)\n",
    "    PRECISION.append(precision)\n",
    "    RECALL.append(recall)\n",
    "    FSCORE.append(fscore)\n",
    "    AUC.append(auc) "
   ]
  },
  {
   "cell_type": "code",
   "execution_count": 1260,
   "id": "d2f3b88d-7d6f-4b2c-a32a-3198f11c35e1",
   "metadata": {},
   "outputs": [
    {
     "name": "stdout",
     "output_type": "stream",
     "text": [
      "Accuracy : 0.8524 ± 0.0011\n",
      "Precision : 0.8472 ± 0.0014\n",
      "Recall : 0.8524 ± 0.0011\n",
      "Fscore : 0.8407 ± 0.0012\n",
      "ROCAUC : 0.9233 ± 0.0014\n"
     ]
    }
   ],
   "source": [
    "print('Accuracy : {0:.4f} ± {1:.4f}'.format(np.mean(ACC), np.std(ACC)))\n",
    "print('Precision : {0:.4f} ± {1:.4f}'.format(np.mean(PRECISION), np.std(PRECISION)))\n",
    "print('Recall : {0:.4f} ± {1:.4f}'.format(np.mean(RECALL), np.std(RECALL)))\n",
    "print('Fscore : {0:.4f} ± {1:.4f}'.format(np.mean(FSCORE), np.std(FSCORE)))\n",
    "print('ROCAUC : {0:.4f} ± {1:.4f}'.format(np.mean(AUC), np.std(AUC)))"
   ]
  },
  {
   "cell_type": "code",
   "execution_count": 1261,
   "id": "e279afc4-4d90-4819-ae16-37edc0b1c0a1",
   "metadata": {},
   "outputs": [],
   "source": [
    "def convert_class(x):\n",
    "    if x == 'I am their partner or spouse' or x == 0:\n",
    "        return 'Spouse or partner'\n",
    "    elif x == 'I am their child' or x == 1:\n",
    "        return 'Child'\n",
    "    else:\n",
    "        return 'Other'"
   ]
  },
  {
   "cell_type": "code",
   "execution_count": 1262,
   "id": "20960b22-17ce-4b52-bbe1-643458690ef9",
   "metadata": {},
   "outputs": [
    {
     "data": {
      "application/vnd.jupyter.widget-view+json": {
       "model_id": "3e3a079848b945d792f90ff4ad4f8a2c",
       "version_major": 2,
       "version_minor": 0
      },
      "text/plain": [
       "Pandas Apply:   0%|          | 0/13630 [00:00<?, ?it/s]"
      ]
     },
     "metadata": {},
     "output_type": "display_data"
    },
    {
     "data": {
      "application/vnd.jupyter.widget-view+json": {
       "model_id": "a7238a9b08e1488d8474ac094e97964e",
       "version_major": 2,
       "version_minor": 0
      },
      "text/plain": [
       "Pandas Apply:   0%|          | 0/13630 [00:00<?, ?it/s]"
      ]
     },
     "metadata": {},
     "output_type": "display_data"
    },
    {
     "data": {
      "image/png": "[encoded data removed]",
      "text/plain": [
       "<Figure size 640x480 with 2 Axes>"
      ]
     },
     "metadata": {},
     "output_type": "display_data"
    }
   ],
   "source": [
    "y_pred = pred_post.prediction.swifter.apply(lambda x: convert_class(x)).to_numpy()\n",
    "y_true = pred_post.label.swifter.apply(lambda x: convert_class(x)).to_numpy()\n",
    "ConfusionMatrixDisplay.from_predictions(y_true, \n",
    "                                        y_pred,\n",
    "                                        labels=['Child','Spouse or partner','Other'],\n",
    "                                        cmap='magma')\n",
    "plt.show()"
   ]
  },
  {
   "cell_type": "code",
   "execution_count": 1263,
   "id": "081fc252-50bb-48ca-9483-765a574886ed",
   "metadata": {},
   "outputs": [
    {
     "data": {
      "application/vnd.jupyter.widget-view+json": {
       "model_id": "d911f1f4e383410bbad7ee6ae69d5476",
       "version_major": 2,
       "version_minor": 0
      },
      "text/plain": [
       "Pandas Apply:   0%|          | 0/3683 [00:00<?, ?it/s]"
      ]
     },
     "metadata": {},
     "output_type": "display_data"
    },
    {
     "data": {
      "application/vnd.jupyter.widget-view+json": {
       "model_id": "e5c245fd86ed4c58a1f0c5a83d961fd4",
       "version_major": 2,
       "version_minor": 0
      },
      "text/plain": [
       "Pandas Apply:   0%|          | 0/3683 [00:00<?, ?it/s]"
      ]
     },
     "metadata": {},
     "output_type": "display_data"
    },
    {
     "data": {
      "image/png": "[encoded data removed]",
      "text/plain": [
       "<Figure size 640x480 with 2 Axes>"
      ]
     },
     "metadata": {},
     "output_type": "display_data"
    }
   ],
   "source": [
    "y_pred = test_user.pred.swifter.apply(lambda x: convert_class(x)).to_numpy()\n",
    "y_true = test_user.label.swifter.apply(lambda x: convert_class(x)).to_numpy()\n",
    "ConfusionMatrixDisplay.from_predictions(y_true, \n",
    "                                        y_pred,\n",
    "                                        labels=['Child','Spouse or partner','Other'],\n",
    "                                        cmap='magma',\n",
    "                                        normalize='true')\n",
    "plt.show()"
   ]
  },
  {
   "cell_type": "markdown",
   "id": "8a028e25-fc40-4011-8531-4c37c93b15e2",
   "metadata": {},
   "source": [
    "## Single Task"
   ]
  },
  {
   "cell_type": "code",
   "execution_count": 1264,
   "id": "671bfd13-0054-4ff2-9ec5-63cfe666ba49",
   "metadata": {},
   "outputs": [],
   "source": [
    "pred_post = pd.read_csv('./multi-task-NLP-master/result/userclass_test_predictions_single_emb512_epoch10.tsv', sep='\\t')"
   ]
  },
  {
   "cell_type": "code",
   "execution_count": 1265,
   "id": "55bbe052-f6f1-45da-b927-3013b4b10438",
   "metadata": {},
   "outputs": [],
   "source": [
    "pred_post = pred_post.sort_values('uid').set_index('uid')"
   ]
  },
  {
   "cell_type": "code",
   "execution_count": 1266,
   "id": "3adcfb9a-9bbb-4c7a-a030-4a631579f7e9",
   "metadata": {},
   "outputs": [],
   "source": [
    "def person_pred(x):\n",
    "    d = dict(x.prediction.apply(lambda x: relation_class(x)).value_counts())\n",
    "    proba = [0, 0, 0]\n",
    "    for k,v in d.items():\n",
    "        proba[k] = v\n",
    "    proba = proba / np.sum(proba)\n",
    "    return proba"
   ]
  },
  {
   "cell_type": "code",
   "execution_count": 1267,
   "id": "c486fd66-95b0-4e79-859d-aebc24635ab1",
   "metadata": {},
   "outputs": [
    {
     "data": {
      "application/vnd.jupyter.widget-view+json": {
       "model_id": "0998398d68df4488a9b7ef77add12a6f",
       "version_major": 2,
       "version_minor": 0
      },
      "text/plain": [
       "Pandas Apply:   0%|          | 0/13630 [00:00<?, ?it/s]"
      ]
     },
     "metadata": {},
     "output_type": "display_data"
    }
   ],
   "source": [
    "pred_post['score'] = pred_post.score.swifter.apply(lambda x : np.array([float(s) for s in x[1:-1].split()]))"
   ]
  },
  {
   "cell_type": "code",
   "execution_count": 1268,
   "id": "584dbaba-38ae-4fe9-b748-ae1d75f956f4",
   "metadata": {},
   "outputs": [],
   "source": [
    "pred_post['user'] = test_post.iloc[:,2]"
   ]
  },
  {
   "cell_type": "code",
   "execution_count": 1269,
   "id": "102c7784-2327-43cb-8840-2008bb23b032",
   "metadata": {},
   "outputs": [],
   "source": [
    "test_user = pred_post[['user','label']].drop_duplicates().reset_index(drop=True)"
   ]
  },
  {
   "cell_type": "code",
   "execution_count": 1270,
   "id": "a4007e0e-ab64-4888-a534-6e982fa82375",
   "metadata": {},
   "outputs": [],
   "source": [
    "test_user = test_user.join(pred_post.groupby('user').apply(lambda x : np.mean(np.stack(x.score.to_numpy(), axis=0), axis=0)).rename('probability'), on='user', how='left')"
   ]
  },
  {
   "cell_type": "code",
   "execution_count": 1271,
   "id": "12f7f666-168b-4993-b5e4-ee0cd6b06648",
   "metadata": {},
   "outputs": [],
   "source": [
    "test_user = test_user.join(pred_post.groupby('user').apply(lambda x : person_pred(x)).rename('proba'), on='user', how='left')"
   ]
  },
  {
   "cell_type": "code",
   "execution_count": 1272,
   "id": "b736560d-99df-42ef-8bff-33e06d3f1d6d",
   "metadata": {},
   "outputs": [
    {
     "data": {
      "application/vnd.jupyter.widget-view+json": {
       "model_id": "2b438f022d5b4459bba0a2efa6e90187",
       "version_major": 2,
       "version_minor": 0
      },
      "text/plain": [
       "Pandas Apply:   0%|          | 0/3683 [00:00<?, ?it/s]"
      ]
     },
     "metadata": {},
     "output_type": "display_data"
    }
   ],
   "source": [
    "test_user['pred'] = test_user.probability.swifter.apply(lambda x: np.argmax(x))"
   ]
  },
  {
   "cell_type": "code",
   "execution_count": 1273,
   "id": "33132872-a4ed-4d2c-8231-10ab6fcec531",
   "metadata": {},
   "outputs": [
    {
     "data": {
      "text/plain": [
       "I am their child                2179\n",
       "I am their partner or spouse     860\n",
       "Other                            644\n",
       "Name: label, dtype: int64"
      ]
     },
     "execution_count": 1273,
     "metadata": {},
     "output_type": "execute_result"
    }
   ],
   "source": [
    "test_user['label'].value_counts()"
   ]
  },
  {
   "cell_type": "code",
   "execution_count": 1274,
   "id": "613823b3-c333-4a7b-8d8d-136f08495315",
   "metadata": {
    "tags": []
   },
   "outputs": [
    {
     "data": {
      "application/vnd.jupyter.widget-view+json": {
       "model_id": "254a87350b83470b971b456b3e68869f",
       "version_major": 2,
       "version_minor": 0
      },
      "text/plain": [
       "Pandas Apply:   0%|          | 0/12267 [00:00<?, ?it/s]"
      ]
     },
     "metadata": {},
     "output_type": "display_data"
    },
    {
     "data": {
      "application/vnd.jupyter.widget-view+json": {
       "model_id": "9cf8f0a6513d4f369b835627012b7f0f",
       "version_major": 2,
       "version_minor": 0
      },
      "text/plain": [
       "Pandas Apply:   0%|          | 0/12267 [00:00<?, ?it/s]"
      ]
     },
     "metadata": {},
     "output_type": "display_data"
    },
    {
     "data": {
      "application/vnd.jupyter.widget-view+json": {
       "model_id": "05bc7f5e6c6b46c394d47a43b5e6128e",
       "version_major": 2,
       "version_minor": 0
      },
      "text/plain": [
       "Pandas Apply:   0%|          | 0/12267 [00:00<?, ?it/s]"
      ]
     },
     "metadata": {},
     "output_type": "display_data"
    },
    {
     "data": {
      "application/vnd.jupyter.widget-view+json": {
       "model_id": "852c1df999a445fdbd3a336f55b948b6",
       "version_major": 2,
       "version_minor": 0
      },
      "text/plain": [
       "Pandas Apply:   0%|          | 0/12267 [00:00<?, ?it/s]"
      ]
     },
     "metadata": {},
     "output_type": "display_data"
    },
    {
     "data": {
      "application/vnd.jupyter.widget-view+json": {
       "model_id": "042490d532594537b772656f3a1b8373",
       "version_major": 2,
       "version_minor": 0
      },
      "text/plain": [
       "Pandas Apply:   0%|          | 0/12267 [00:00<?, ?it/s]"
      ]
     },
     "metadata": {},
     "output_type": "display_data"
    },
    {
     "data": {
      "application/vnd.jupyter.widget-view+json": {
       "model_id": "1e6f7ced5cb04e16a184ad8c292ed124",
       "version_major": 2,
       "version_minor": 0
      },
      "text/plain": [
       "Pandas Apply:   0%|          | 0/12267 [00:00<?, ?it/s]"
      ]
     },
     "metadata": {},
     "output_type": "display_data"
    },
    {
     "data": {
      "application/vnd.jupyter.widget-view+json": {
       "model_id": "76253b666aa64589947070421ebe6a9c",
       "version_major": 2,
       "version_minor": 0
      },
      "text/plain": [
       "Pandas Apply:   0%|          | 0/12267 [00:00<?, ?it/s]"
      ]
     },
     "metadata": {},
     "output_type": "display_data"
    },
    {
     "data": {
      "application/vnd.jupyter.widget-view+json": {
       "model_id": "60eb10c172c14beeb313bd0dad567f5f",
       "version_major": 2,
       "version_minor": 0
      },
      "text/plain": [
       "Pandas Apply:   0%|          | 0/12267 [00:00<?, ?it/s]"
      ]
     },
     "metadata": {},
     "output_type": "display_data"
    },
    {
     "data": {
      "application/vnd.jupyter.widget-view+json": {
       "model_id": "dee1b6fe5eec495794d4edc055382ae3",
       "version_major": 2,
       "version_minor": 0
      },
      "text/plain": [
       "Pandas Apply:   0%|          | 0/12267 [00:00<?, ?it/s]"
      ]
     },
     "metadata": {},
     "output_type": "display_data"
    },
    {
     "data": {
      "application/vnd.jupyter.widget-view+json": {
       "model_id": "69a5c1ef850c49029e80c7c5e4481908",
       "version_major": 2,
       "version_minor": 0
      },
      "text/plain": [
       "Pandas Apply:   0%|          | 0/12267 [00:00<?, ?it/s]"
      ]
     },
     "metadata": {},
     "output_type": "display_data"
    },
    {
     "data": {
      "application/vnd.jupyter.widget-view+json": {
       "model_id": "e2dcdbaf234f45a8afc619044dd30c40",
       "version_major": 2,
       "version_minor": 0
      },
      "text/plain": [
       "Pandas Apply:   0%|          | 0/12267 [00:00<?, ?it/s]"
      ]
     },
     "metadata": {},
     "output_type": "display_data"
    },
    {
     "data": {
      "application/vnd.jupyter.widget-view+json": {
       "model_id": "0015837c14f14d899dd7f3a3612c15a8",
       "version_major": 2,
       "version_minor": 0
      },
      "text/plain": [
       "Pandas Apply:   0%|          | 0/12267 [00:00<?, ?it/s]"
      ]
     },
     "metadata": {},
     "output_type": "display_data"
    },
    {
     "data": {
      "application/vnd.jupyter.widget-view+json": {
       "model_id": "41d29289c7f043678fabf784c92e9738",
       "version_major": 2,
       "version_minor": 0
      },
      "text/plain": [
       "Pandas Apply:   0%|          | 0/12267 [00:00<?, ?it/s]"
      ]
     },
     "metadata": {},
     "output_type": "display_data"
    },
    {
     "data": {
      "application/vnd.jupyter.widget-view+json": {
       "model_id": "e058484c39174d6aabae9dbee0789f95",
       "version_major": 2,
       "version_minor": 0
      },
      "text/plain": [
       "Pandas Apply:   0%|          | 0/12267 [00:00<?, ?it/s]"
      ]
     },
     "metadata": {},
     "output_type": "display_data"
    },
    {
     "data": {
      "application/vnd.jupyter.widget-view+json": {
       "model_id": "ebd82bfd7ab84fb4b7913fdbc5e7f3f7",
       "version_major": 2,
       "version_minor": 0
      },
      "text/plain": [
       "Pandas Apply:   0%|          | 0/12267 [00:00<?, ?it/s]"
      ]
     },
     "metadata": {},
     "output_type": "display_data"
    },
    {
     "data": {
      "application/vnd.jupyter.widget-view+json": {
       "model_id": "4086f1728ff94adba8f5dd4dccf98f99",
       "version_major": 2,
       "version_minor": 0
      },
      "text/plain": [
       "Pandas Apply:   0%|          | 0/12267 [00:00<?, ?it/s]"
      ]
     },
     "metadata": {},
     "output_type": "display_data"
    },
    {
     "data": {
      "application/vnd.jupyter.widget-view+json": {
       "model_id": "429435675a954bebad58354b873518db",
       "version_major": 2,
       "version_minor": 0
      },
      "text/plain": [
       "Pandas Apply:   0%|          | 0/12267 [00:00<?, ?it/s]"
      ]
     },
     "metadata": {},
     "output_type": "display_data"
    },
    {
     "data": {
      "application/vnd.jupyter.widget-view+json": {
       "model_id": "68ab407b66ca4ce28fb1bbf1164a2736",
       "version_major": 2,
       "version_minor": 0
      },
      "text/plain": [
       "Pandas Apply:   0%|          | 0/12267 [00:00<?, ?it/s]"
      ]
     },
     "metadata": {},
     "output_type": "display_data"
    },
    {
     "data": {
      "application/vnd.jupyter.widget-view+json": {
       "model_id": "324c2aa6b2de40d3b02f81ab2e6a50ab",
       "version_major": 2,
       "version_minor": 0
      },
      "text/plain": [
       "Pandas Apply:   0%|          | 0/12267 [00:00<?, ?it/s]"
      ]
     },
     "metadata": {},
     "output_type": "display_data"
    },
    {
     "data": {
      "application/vnd.jupyter.widget-view+json": {
       "model_id": "214e6f7dba3047cbaaa8ac7da55e115a",
       "version_major": 2,
       "version_minor": 0
      },
      "text/plain": [
       "Pandas Apply:   0%|          | 0/12267 [00:00<?, ?it/s]"
      ]
     },
     "metadata": {},
     "output_type": "display_data"
    },
    {
     "data": {
      "application/vnd.jupyter.widget-view+json": {
       "model_id": "302db1bf818e470d96ba89ecfcf3c522",
       "version_major": 2,
       "version_minor": 0
      },
      "text/plain": [
       "Pandas Apply:   0%|          | 0/12267 [00:00<?, ?it/s]"
      ]
     },
     "metadata": {},
     "output_type": "display_data"
    },
    {
     "data": {
      "application/vnd.jupyter.widget-view+json": {
       "model_id": "10f255b8a01447489e368991b928f394",
       "version_major": 2,
       "version_minor": 0
      },
      "text/plain": [
       "Pandas Apply:   0%|          | 0/12267 [00:00<?, ?it/s]"
      ]
     },
     "metadata": {},
     "output_type": "display_data"
    },
    {
     "data": {
      "application/vnd.jupyter.widget-view+json": {
       "model_id": "d14b07f28027435c9df03c208fc871fd",
       "version_major": 2,
       "version_minor": 0
      },
      "text/plain": [
       "Pandas Apply:   0%|          | 0/12267 [00:00<?, ?it/s]"
      ]
     },
     "metadata": {},
     "output_type": "display_data"
    },
    {
     "data": {
      "application/vnd.jupyter.widget-view+json": {
       "model_id": "9beded71f9f140be9f7ca8f22c28b558",
       "version_major": 2,
       "version_minor": 0
      },
      "text/plain": [
       "Pandas Apply:   0%|          | 0/12267 [00:00<?, ?it/s]"
      ]
     },
     "metadata": {},
     "output_type": "display_data"
    },
    {
     "data": {
      "application/vnd.jupyter.widget-view+json": {
       "model_id": "0debf031867a40f4a8dc666d573f4e71",
       "version_major": 2,
       "version_minor": 0
      },
      "text/plain": [
       "Pandas Apply:   0%|          | 0/12267 [00:00<?, ?it/s]"
      ]
     },
     "metadata": {},
     "output_type": "display_data"
    },
    {
     "data": {
      "application/vnd.jupyter.widget-view+json": {
       "model_id": "8d997aeadbb2473e9d816760fb96d620",
       "version_major": 2,
       "version_minor": 0
      },
      "text/plain": [
       "Pandas Apply:   0%|          | 0/12267 [00:00<?, ?it/s]"
      ]
     },
     "metadata": {},
     "output_type": "display_data"
    },
    {
     "data": {
      "application/vnd.jupyter.widget-view+json": {
       "model_id": "29f851e262544e7da80ed40a7d08927c",
       "version_major": 2,
       "version_minor": 0
      },
      "text/plain": [
       "Pandas Apply:   0%|          | 0/12267 [00:00<?, ?it/s]"
      ]
     },
     "metadata": {},
     "output_type": "display_data"
    },
    {
     "data": {
      "application/vnd.jupyter.widget-view+json": {
       "model_id": "7d60dbba917645e48f5258e80ceb981b",
       "version_major": 2,
       "version_minor": 0
      },
      "text/plain": [
       "Pandas Apply:   0%|          | 0/12267 [00:00<?, ?it/s]"
      ]
     },
     "metadata": {},
     "output_type": "display_data"
    },
    {
     "data": {
      "application/vnd.jupyter.widget-view+json": {
       "model_id": "1ec40bc60db64f69b078253032af8253",
       "version_major": 2,
       "version_minor": 0
      },
      "text/plain": [
       "Pandas Apply:   0%|          | 0/12267 [00:00<?, ?it/s]"
      ]
     },
     "metadata": {},
     "output_type": "display_data"
    },
    {
     "data": {
      "application/vnd.jupyter.widget-view+json": {
       "model_id": "e9dcf47b89d441fa85d56e12fc9b7328",
       "version_major": 2,
       "version_minor": 0
      },
      "text/plain": [
       "Pandas Apply:   0%|          | 0/12267 [00:00<?, ?it/s]"
      ]
     },
     "metadata": {},
     "output_type": "display_data"
    }
   ],
   "source": [
    "ACC = []\n",
    "PRECISION = []\n",
    "RECALL = []\n",
    "FSCORE = []\n",
    "AUC = []\n",
    "\n",
    "for train_index, test_index in sss.split(pred_post, pred_post['label']):\n",
    "    test_post_split = pred_post.loc[test_index,:]\n",
    "    y_pred = test_post_split.prediction.swifter.apply(lambda x: relation_class(x)).to_numpy()\n",
    "    y_true = test_post_split.label.swifter.apply(lambda x: relation_class(x)).to_numpy()\n",
    "    y_true_auc = pd.get_dummies(test_post_split.label.swifter.apply(lambda x: relation_class(x))).to_numpy()\n",
    "    y_pred_auc = np.stack(test_post_split.score.to_numpy(), axis=0)\n",
    "    acc = accuracy_score(y_true, y_pred)\n",
    "    precision, recall, fscore, _ = precision_recall_fscore_support(y_true, y_pred, average='weighted')\n",
    "    auc = roc_auc_score(y_true_auc, y_pred_auc, average='weighted', multi_class='ovr')\n",
    "    ACC.append(acc)\n",
    "    PRECISION.append(precision)\n",
    "    RECALL.append(recall)\n",
    "    FSCORE.append(fscore)\n",
    "    AUC.append(auc) "
   ]
  },
  {
   "cell_type": "code",
   "execution_count": 1275,
   "id": "3a382586-2f1a-4f78-bff7-4edfc7fefe4a",
   "metadata": {},
   "outputs": [
    {
     "name": "stdout",
     "output_type": "stream",
     "text": [
      "Accuracy : 0.7739 ± 0.0015\n",
      "Precision : 0.7646 ± 0.0017\n",
      "Recall : 0.7739 ± 0.0015\n",
      "Fscore : 0.7674 ± 0.0016\n",
      "ROCAUC : 0.8858 ± 0.0010\n"
     ]
    }
   ],
   "source": [
    "print('Accuracy : {0:.4f} ± {1:.4f}'.format(np.mean(ACC), np.std(ACC)))\n",
    "print('Precision : {0:.4f} ± {1:.4f}'.format(np.mean(PRECISION), np.std(PRECISION)))\n",
    "print('Recall : {0:.4f} ± {1:.4f}'.format(np.mean(RECALL), np.std(RECALL)))\n",
    "print('Fscore : {0:.4f} ± {1:.4f}'.format(np.mean(FSCORE), np.std(FSCORE)))\n",
    "print('ROCAUC : {0:.4f} ± {1:.4f}'.format(np.mean(AUC), np.std(AUC)))"
   ]
  },
  {
   "cell_type": "code",
   "execution_count": 1276,
   "id": "b5c51b3b-c481-4d58-acda-5fa8e6ceaffa",
   "metadata": {
    "tags": []
   },
   "outputs": [
    {
     "data": {
      "application/vnd.jupyter.widget-view+json": {
       "model_id": "21561bec73b8497f96197b6af29f649a",
       "version_major": 2,
       "version_minor": 0
      },
      "text/plain": [
       "Pandas Apply:   0%|          | 0/3315 [00:00<?, ?it/s]"
      ]
     },
     "metadata": {},
     "output_type": "display_data"
    },
    {
     "data": {
      "application/vnd.jupyter.widget-view+json": {
       "model_id": "c2b1ca8eddaf4a358c6e5d36ae21fc67",
       "version_major": 2,
       "version_minor": 0
      },
      "text/plain": [
       "Pandas Apply:   0%|          | 0/3315 [00:00<?, ?it/s]"
      ]
     },
     "metadata": {},
     "output_type": "display_data"
    },
    {
     "data": {
      "application/vnd.jupyter.widget-view+json": {
       "model_id": "c144b82c58f74812bc487bba02ace685",
       "version_major": 2,
       "version_minor": 0
      },
      "text/plain": [
       "Pandas Apply:   0%|          | 0/3315 [00:00<?, ?it/s]"
      ]
     },
     "metadata": {},
     "output_type": "display_data"
    },
    {
     "data": {
      "application/vnd.jupyter.widget-view+json": {
       "model_id": "1e6885ac684e454eb99b19b6732adb22",
       "version_major": 2,
       "version_minor": 0
      },
      "text/plain": [
       "Pandas Apply:   0%|          | 0/3315 [00:00<?, ?it/s]"
      ]
     },
     "metadata": {},
     "output_type": "display_data"
    },
    {
     "data": {
      "application/vnd.jupyter.widget-view+json": {
       "model_id": "3269640e159041a48f88740491ca14f1",
       "version_major": 2,
       "version_minor": 0
      },
      "text/plain": [
       "Pandas Apply:   0%|          | 0/3315 [00:00<?, ?it/s]"
      ]
     },
     "metadata": {},
     "output_type": "display_data"
    },
    {
     "data": {
      "application/vnd.jupyter.widget-view+json": {
       "model_id": "e58d0dca49114496b2bbc34899c1d382",
       "version_major": 2,
       "version_minor": 0
      },
      "text/plain": [
       "Pandas Apply:   0%|          | 0/3315 [00:00<?, ?it/s]"
      ]
     },
     "metadata": {},
     "output_type": "display_data"
    },
    {
     "data": {
      "application/vnd.jupyter.widget-view+json": {
       "model_id": "88b030349efd4553894e4d0f49fa6321",
       "version_major": 2,
       "version_minor": 0
      },
      "text/plain": [
       "Pandas Apply:   0%|          | 0/3315 [00:00<?, ?it/s]"
      ]
     },
     "metadata": {},
     "output_type": "display_data"
    },
    {
     "data": {
      "application/vnd.jupyter.widget-view+json": {
       "model_id": "c67f24d1092d40fdb2ebe3e0f76351c6",
       "version_major": 2,
       "version_minor": 0
      },
      "text/plain": [
       "Pandas Apply:   0%|          | 0/3315 [00:00<?, ?it/s]"
      ]
     },
     "metadata": {},
     "output_type": "display_data"
    },
    {
     "data": {
      "application/vnd.jupyter.widget-view+json": {
       "model_id": "6880ebfb36ee405cab0331321d62fb5c",
       "version_major": 2,
       "version_minor": 0
      },
      "text/plain": [
       "Pandas Apply:   0%|          | 0/3315 [00:00<?, ?it/s]"
      ]
     },
     "metadata": {},
     "output_type": "display_data"
    },
    {
     "data": {
      "application/vnd.jupyter.widget-view+json": {
       "model_id": "cdb1161870e5401dbfaff17a8bddcb7b",
       "version_major": 2,
       "version_minor": 0
      },
      "text/plain": [
       "Pandas Apply:   0%|          | 0/3315 [00:00<?, ?it/s]"
      ]
     },
     "metadata": {},
     "output_type": "display_data"
    },
    {
     "data": {
      "application/vnd.jupyter.widget-view+json": {
       "model_id": "ebe35ebfebd14f92b9fb06fc7d8677bf",
       "version_major": 2,
       "version_minor": 0
      },
      "text/plain": [
       "Pandas Apply:   0%|          | 0/3315 [00:00<?, ?it/s]"
      ]
     },
     "metadata": {},
     "output_type": "display_data"
    },
    {
     "data": {
      "application/vnd.jupyter.widget-view+json": {
       "model_id": "899e9f702ca84778816d7ce62b8a847f",
       "version_major": 2,
       "version_minor": 0
      },
      "text/plain": [
       "Pandas Apply:   0%|          | 0/3315 [00:00<?, ?it/s]"
      ]
     },
     "metadata": {},
     "output_type": "display_data"
    },
    {
     "data": {
      "application/vnd.jupyter.widget-view+json": {
       "model_id": "a6e3a9ce5902439591cbcf189bdb4ae9",
       "version_major": 2,
       "version_minor": 0
      },
      "text/plain": [
       "Pandas Apply:   0%|          | 0/3315 [00:00<?, ?it/s]"
      ]
     },
     "metadata": {},
     "output_type": "display_data"
    },
    {
     "data": {
      "application/vnd.jupyter.widget-view+json": {
       "model_id": "ac6d0164d5874f2c9ba4bf3fa7cae679",
       "version_major": 2,
       "version_minor": 0
      },
      "text/plain": [
       "Pandas Apply:   0%|          | 0/3315 [00:00<?, ?it/s]"
      ]
     },
     "metadata": {},
     "output_type": "display_data"
    },
    {
     "data": {
      "application/vnd.jupyter.widget-view+json": {
       "model_id": "3bd24fc18cf544cca99dbb01c69dc7f2",
       "version_major": 2,
       "version_minor": 0
      },
      "text/plain": [
       "Pandas Apply:   0%|          | 0/3315 [00:00<?, ?it/s]"
      ]
     },
     "metadata": {},
     "output_type": "display_data"
    },
    {
     "data": {
      "application/vnd.jupyter.widget-view+json": {
       "model_id": "2f2437645c13484eb443f9de05dba750",
       "version_major": 2,
       "version_minor": 0
      },
      "text/plain": [
       "Pandas Apply:   0%|          | 0/3315 [00:00<?, ?it/s]"
      ]
     },
     "metadata": {},
     "output_type": "display_data"
    },
    {
     "data": {
      "application/vnd.jupyter.widget-view+json": {
       "model_id": "2a4835722b334095a55a4b3ecb943b17",
       "version_major": 2,
       "version_minor": 0
      },
      "text/plain": [
       "Pandas Apply:   0%|          | 0/3315 [00:00<?, ?it/s]"
      ]
     },
     "metadata": {},
     "output_type": "display_data"
    },
    {
     "data": {
      "application/vnd.jupyter.widget-view+json": {
       "model_id": "b43effce8dc643399f250a5baf0f0bf0",
       "version_major": 2,
       "version_minor": 0
      },
      "text/plain": [
       "Pandas Apply:   0%|          | 0/3315 [00:00<?, ?it/s]"
      ]
     },
     "metadata": {},
     "output_type": "display_data"
    },
    {
     "data": {
      "application/vnd.jupyter.widget-view+json": {
       "model_id": "41a40e72307447e4b4e70b7c3e4ff9d4",
       "version_major": 2,
       "version_minor": 0
      },
      "text/plain": [
       "Pandas Apply:   0%|          | 0/3315 [00:00<?, ?it/s]"
      ]
     },
     "metadata": {},
     "output_type": "display_data"
    },
    {
     "data": {
      "application/vnd.jupyter.widget-view+json": {
       "model_id": "a2186b306f16426a8e83378cf2e84215",
       "version_major": 2,
       "version_minor": 0
      },
      "text/plain": [
       "Pandas Apply:   0%|          | 0/3315 [00:00<?, ?it/s]"
      ]
     },
     "metadata": {},
     "output_type": "display_data"
    }
   ],
   "source": [
    "ACC = []\n",
    "PRECISION = []\n",
    "RECALL = []\n",
    "FSCORE = []\n",
    "AUC = []\n",
    "\n",
    "for train_index, test_index in sss.split(test_user, test_user['label']):\n",
    "    test_user_split = test_user.loc[test_index,:]\n",
    "    y_pred = test_user_split.pred.to_numpy()\n",
    "    y_true = test_user_split.label.swifter.apply(lambda x: relation_class(x)).to_numpy()\n",
    "    y_true_auc = pd.get_dummies(test_user_split.label.swifter.apply(lambda x: relation_class(x))).to_numpy()\n",
    "    y_pred_auc = np.stack(test_user_split.probability.to_numpy(), axis=0)\n",
    "    acc = accuracy_score(y_true, y_pred)\n",
    "    precision, recall, fscore, _ = precision_recall_fscore_support(y_true, y_pred, average='weighted')\n",
    "    auc = roc_auc_score(y_true_auc, y_pred_auc, average='weighted', multi_class='ovr')\n",
    "    ACC.append(acc)\n",
    "    PRECISION.append(precision)\n",
    "    RECALL.append(recall)\n",
    "    FSCORE.append(fscore)\n",
    "    AUC.append(auc) "
   ]
  },
  {
   "cell_type": "code",
   "execution_count": 1277,
   "id": "096b5048-b0af-4606-a2f7-06614af706fc",
   "metadata": {},
   "outputs": [
    {
     "name": "stdout",
     "output_type": "stream",
     "text": [
      "Accuracy : 0.8588 ± 0.0014\n",
      "Precision : 0.8536 ± 0.0016\n",
      "Recall : 0.8588 ± 0.0014\n",
      "Fscore : 0.8506 ± 0.0016\n",
      "ROCAUC : 0.9240 ± 0.0016\n"
     ]
    }
   ],
   "source": [
    "print('Accuracy : {0:.4f} ± {1:.4f}'.format(np.mean(ACC), np.std(ACC)))\n",
    "print('Precision : {0:.4f} ± {1:.4f}'.format(np.mean(PRECISION), np.std(PRECISION)))\n",
    "print('Recall : {0:.4f} ± {1:.4f}'.format(np.mean(RECALL), np.std(RECALL)))\n",
    "print('Fscore : {0:.4f} ± {1:.4f}'.format(np.mean(FSCORE), np.std(FSCORE)))\n",
    "print('ROCAUC : {0:.4f} ± {1:.4f}'.format(np.mean(AUC), np.std(AUC)))"
   ]
  },
  {
   "cell_type": "code",
   "execution_count": 1278,
   "id": "3f2aa62d-c372-4382-9b9f-afcce0ecafc6",
   "metadata": {},
   "outputs": [
    {
     "data": {
      "application/vnd.jupyter.widget-view+json": {
       "model_id": "caad36a4aed34a27a404c8718d5b5046",
       "version_major": 2,
       "version_minor": 0
      },
      "text/plain": [
       "Pandas Apply:   0%|          | 0/13630 [00:00<?, ?it/s]"
      ]
     },
     "metadata": {},
     "output_type": "display_data"
    },
    {
     "data": {
      "application/vnd.jupyter.widget-view+json": {
       "model_id": "c7cbb75cdb094159b396a5319d534140",
       "version_major": 2,
       "version_minor": 0
      },
      "text/plain": [
       "Pandas Apply:   0%|          | 0/13630 [00:00<?, ?it/s]"
      ]
     },
     "metadata": {},
     "output_type": "display_data"
    },
    {
     "data": {
      "image/png": "[encoded data removed]",
      "text/plain": [
       "<Figure size 640x480 with 2 Axes>"
      ]
     },
     "metadata": {},
     "output_type": "display_data"
    }
   ],
   "source": [
    "y_pred = pred_post.prediction.swifter.apply(lambda x: convert_class(x)).to_numpy()\n",
    "y_true = pred_post.label.swifter.apply(lambda x: convert_class(x)).to_numpy()\n",
    "ConfusionMatrixDisplay.from_predictions(y_true, \n",
    "                                        y_pred,\n",
    "                                        labels=['Child','Spouse or partner','Other'],\n",
    "                                        cmap='magma')\n",
    "plt.show()"
   ]
  },
  {
   "cell_type": "code",
   "execution_count": 1279,
   "id": "d0a4f93f-6964-47f8-9d54-1f3ec3d14003",
   "metadata": {},
   "outputs": [
    {
     "data": {
      "application/vnd.jupyter.widget-view+json": {
       "model_id": "52ccaed2e55543f08258ec38439ffc3b",
       "version_major": 2,
       "version_minor": 0
      },
      "text/plain": [
       "Pandas Apply:   0%|          | 0/3683 [00:00<?, ?it/s]"
      ]
     },
     "metadata": {},
     "output_type": "display_data"
    },
    {
     "data": {
      "application/vnd.jupyter.widget-view+json": {
       "model_id": "50ee2df9d58a4453bc8452099b27e518",
       "version_major": 2,
       "version_minor": 0
      },
      "text/plain": [
       "Pandas Apply:   0%|          | 0/3683 [00:00<?, ?it/s]"
      ]
     },
     "metadata": {},
     "output_type": "display_data"
    },
    {
     "data": {
      "image/png": "[encoded data removed]",
      "text/plain": [
       "<Figure size 640x480 with 2 Axes>"
      ]
     },
     "metadata": {},
     "output_type": "display_data"
    }
   ],
   "source": [
    "y_pred = test_user.pred.swifter.apply(lambda x: convert_class(x)).to_numpy()\n",
    "y_true = test_user.label.swifter.apply(lambda x: convert_class(x)).to_numpy()\n",
    "ConfusionMatrixDisplay.from_predictions(y_true, \n",
    "                                        y_pred,\n",
    "                                        labels=['Child','Spouse or partner','Other'],\n",
    "                                        cmap='magma')\n",
    "plt.show()"
   ]
  },
  {
   "cell_type": "markdown",
   "id": "fe3c5989-7ed0-48ad-841c-47ec40939677",
   "metadata": {},
   "source": [
    "# Time"
   ]
  },
  {
   "cell_type": "code",
   "execution_count": 1171,
   "id": "9214c908-9cf1-4bf8-9723-45ff484c90bc",
   "metadata": {},
   "outputs": [],
   "source": [
    "pred_post = pd.read_csv('./multi-task-NLP-master/result/userclass_test_predictions_all.tsv', sep='\\t')"
   ]
  },
  {
   "cell_type": "code",
   "execution_count": 1172,
   "id": "fe86130d-f393-4366-9ebf-836a9772df5f",
   "metadata": {},
   "outputs": [],
   "source": [
    "test_post = pd.read_csv('./multi-task-NLP-master/adrd/data/all_test_post.tsv', sep='\\t', index_col=0)"
   ]
  },
  {
   "cell_type": "code",
   "execution_count": 1173,
   "id": "0e2184c3-e080-432a-a24d-583736d0885f",
   "metadata": {},
   "outputs": [],
   "source": [
    "pred_post = pred_post.sort_values('uid').set_index('uid')"
   ]
  },
  {
   "cell_type": "code",
   "execution_count": 1174,
   "id": "76558a92-8a2a-4ab2-a954-28e8dea1b489",
   "metadata": {},
   "outputs": [],
   "source": [
    "pred_post = pred_post.join(test_post, how='left').reset_index(drop=True)"
   ]
  },
  {
   "cell_type": "code",
   "execution_count": 1175,
   "id": "d628d8ec-98ad-4ca2-b94b-7ead551fe6e4",
   "metadata": {},
   "outputs": [
    {
     "data": {
      "application/vnd.jupyter.widget-view+json": {
       "model_id": "02e801f9895a45998dcddc46a07700f9",
       "version_major": 2,
       "version_minor": 0
      },
      "text/plain": [
       "Pandas Apply:   0%|          | 0/85468 [00:00<?, ?it/s]"
      ]
     },
     "metadata": {},
     "output_type": "display_data"
    }
   ],
   "source": [
    "pred_post['score'] = pred_post.score.swifter.apply(lambda x : np.array([float(s) for s in x[1:-1].split()]))"
   ]
  },
  {
   "cell_type": "code",
   "execution_count": 1176,
   "id": "7afd485b-665a-43ba-aebd-cb80556418ab",
   "metadata": {},
   "outputs": [],
   "source": [
    "pred_post['join_date'] = pd.to_datetime(pred_post.join_date).dt.date"
   ]
  },
  {
   "cell_type": "code",
   "execution_count": 1177,
   "id": "8721ddec-8fc5-4387-8625-71c96e023d31",
   "metadata": {},
   "outputs": [],
   "source": [
    "pred_post['post_date'] = pd.to_datetime(pred_post.post_date).dt.date"
   ]
  },
  {
   "cell_type": "code",
   "execution_count": 1178,
   "id": "db57c52f-009d-4533-ad23-30ae51ce7c58",
   "metadata": {},
   "outputs": [],
   "source": [
    "pred_post['Active days'] = pred_post.swifter.apply(lambda x: (x.post_date - x.join_date), axis=1).dt.days"
   ]
  },
  {
   "cell_type": "code",
   "execution_count": 1179,
   "id": "4b48d618-26a0-474b-8352-b1e28e1ee971",
   "metadata": {},
   "outputs": [],
   "source": [
    "partner_pred_post = pred_post[pred_post['label'] == 'I am their partner or spouse']"
   ]
  },
  {
   "cell_type": "code",
   "execution_count": 1180,
   "id": "7bc65e07-0f73-4a2c-a2b6-f69b2758d256",
   "metadata": {},
   "outputs": [
    {
     "name": "stderr",
     "output_type": "stream",
     "text": [
      "C:\\Users\\Song_\\AppData\\Local\\Temp\\ipykernel_43216\\953932196.py:1: SettingWithCopyWarning: \n",
      "A value is trying to be set on a copy of a slice from a DataFrame.\n",
      "Try using .loc[row_indexer,col_indexer] = value instead\n",
      "\n",
      "See the caveats in the documentation: https://pandas.pydata.org/pandas-docs/stable/user_guide/indexing.html#returning-a-view-versus-a-copy\n",
      "  partner_pred_post['Relationship'] = 'Spouse or partner'\n"
     ]
    }
   ],
   "source": [
    "partner_pred_post['Relationship'] = 'Spouse or partner'"
   ]
  },
  {
   "cell_type": "code",
   "execution_count": 1181,
   "id": "29de5082-46d9-4f32-8c2d-e84fbd9941e4",
   "metadata": {},
   "outputs": [
    {
     "data": {
      "application/vnd.jupyter.widget-view+json": {
       "model_id": "919c5ff3626249d0991121879c918eb4",
       "version_major": 2,
       "version_minor": 0
      },
      "text/plain": [
       "Pandas Apply:   0%|          | 0/49752 [00:00<?, ?it/s]"
      ]
     },
     "metadata": {},
     "output_type": "display_data"
    },
    {
     "name": "stderr",
     "output_type": "stream",
     "text": [
      "C:\\Users\\Song_\\AppData\\Local\\Temp\\ipykernel_43216\\374271076.py:1: SettingWithCopyWarning: \n",
      "A value is trying to be set on a copy of a slice from a DataFrame.\n",
      "Try using .loc[row_indexer,col_indexer] = value instead\n",
      "\n",
      "See the caveats in the documentation: https://pandas.pydata.org/pandas-docs/stable/user_guide/indexing.html#returning-a-view-versus-a-copy\n",
      "  partner_pred_post['Predict probability of correct label'] = partner_pred_post.score.swifter.apply(lambda x: x[0])\n"
     ]
    }
   ],
   "source": [
    "partner_pred_post['Predict probability of correct label'] = partner_pred_post.score.swifter.apply(lambda x: x[0])"
   ]
  },
  {
   "cell_type": "code",
   "execution_count": 1137,
   "id": "d79693d8-ce46-476b-b6db-bb09dfcc1544",
   "metadata": {},
   "outputs": [
    {
     "data": {
      "image/png": "[encoded data removed]",
      "text/plain": [
       "<Figure size 640x480 with 1 Axes>"
      ]
     },
     "metadata": {},
     "output_type": "display_data"
    }
   ],
   "source": [
    "sns.regplot(x='Active days', y='Predict probability of correct label', data=partner_pred_post)\n",
    "plt.show()"
   ]
  },
  {
   "cell_type": "code",
   "execution_count": 1130,
   "id": "ad6e6551-45d6-47dd-92c1-c5daea5de88c",
   "metadata": {},
   "outputs": [],
   "source": [
    "child_pred_post = pred_post[pred_post['label'] == 'I am their child']"
   ]
  },
  {
   "cell_type": "code",
   "execution_count": 1139,
   "id": "873703e8-85ad-4609-923e-235498ce5157",
   "metadata": {},
   "outputs": [
    {
     "name": "stderr",
     "output_type": "stream",
     "text": [
      "C:\\Users\\Song_\\AppData\\Local\\Temp\\ipykernel_43216\\3105701590.py:1: SettingWithCopyWarning: \n",
      "A value is trying to be set on a copy of a slice from a DataFrame.\n",
      "Try using .loc[row_indexer,col_indexer] = value instead\n",
      "\n",
      "See the caveats in the documentation: https://pandas.pydata.org/pandas-docs/stable/user_guide/indexing.html#returning-a-view-versus-a-copy\n",
      "  child_pred_post['Relationship'] = 'Child'\n"
     ]
    }
   ],
   "source": [
    "child_pred_post['Relationship'] = 'Child'"
   ]
  },
  {
   "cell_type": "code",
   "execution_count": 1134,
   "id": "c74b0474-bf79-4c07-929e-28ac749f82c0",
   "metadata": {},
   "outputs": [
    {
     "data": {
      "application/vnd.jupyter.widget-view+json": {
       "model_id": "c4337d22a5924b838a7431336dd8a52f",
       "version_major": 2,
       "version_minor": 0
      },
      "text/plain": [
       "Pandas Apply:   0%|          | 0/35716 [00:00<?, ?it/s]"
      ]
     },
     "metadata": {},
     "output_type": "display_data"
    },
    {
     "name": "stderr",
     "output_type": "stream",
     "text": [
      "C:\\Users\\Song_\\AppData\\Local\\Temp\\ipykernel_43216\\35949854.py:1: SettingWithCopyWarning: \n",
      "A value is trying to be set on a copy of a slice from a DataFrame.\n",
      "Try using .loc[row_indexer,col_indexer] = value instead\n",
      "\n",
      "See the caveats in the documentation: https://pandas.pydata.org/pandas-docs/stable/user_guide/indexing.html#returning-a-view-versus-a-copy\n",
      "  child_pred_post['Predict probability of correct label'] = child_pred_post.score.swifter.apply(lambda x: x[1])\n"
     ]
    }
   ],
   "source": [
    "child_pred_post['Predict probability of correct label'] = child_pred_post.score.swifter.apply(lambda x: x[1])"
   ]
  },
  {
   "cell_type": "code",
   "execution_count": 1135,
   "id": "ca5b291f-9bec-4a51-92f7-d7c11fb98c84",
   "metadata": {},
   "outputs": [
    {
     "data": {
      "image/png": "[encoded data removed]",
      "text/plain": [
       "<Figure size 640x480 with 1 Axes>"
      ]
     },
     "metadata": {},
     "output_type": "display_data"
    }
   ],
   "source": [
    "sns.regplot(x='Active days', y='Predict probability of correct label', data=child_pred_post)\n",
    "plt.show()"
   ]
  }
 ],
 "metadata": {
  "kernelspec": {
   "display_name": "Python 3 (ipykernel)",
   "language": "python",
   "name": "python3"
  },
  "language_info": {
   "codemirror_mode": {
    "name": "ipython",
    "version": 3
   },
   "file_extension": ".py",
   "mimetype": "text/x-python",
   "name": "python",
   "nbconvert_exporter": "python",
   "pygments_lexer": "ipython3",
   "version": "3.8.17"
  }
 },
 "nbformat": 4,
 "nbformat_minor": 5
}
